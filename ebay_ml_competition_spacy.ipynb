{
  "cells": [
    {
      "cell_type": "markdown",
      "metadata": {
        "id": "view-in-github",
        "colab_type": "text"
      },
      "source": [
        "<a href=\"https://colab.research.google.com/github/kevin866/ml_nlp_ebaycomp/blob/spacy/ebay_ml_competition_spacy.ipynb\" target=\"_parent\"><img src=\"https://colab.research.google.com/assets/colab-badge.svg\" alt=\"Open In Colab\"/></a>"
      ]
    },
    {
      "cell_type": "code",
      "execution_count": null,
      "metadata": {
        "id": "PjMn66TwxjiS",
        "colab": {
          "base_uri": "https://localhost:8080/"
        },
        "outputId": "b6f216cf-11de-448f-8b7a-da04fc6c363e"
      },
      "outputs": [
        {
          "output_type": "stream",
          "name": "stdout",
          "text": [
            "Mounted at /content/drive\n"
          ]
        }
      ],
      "source": [
        "from google.colab import drive\n",
        "drive.mount('/content/drive')\n"
      ]
    },
    {
      "cell_type": "code",
      "execution_count": null,
      "metadata": {
        "id": "gaOx0hsi6S_b"
      },
      "outputs": [],
      "source": [
        "#import gzip\n",
        "#import shutil\n",
        "#with gzip.open('/content/drive/MyDrive/eBay_ML_Challenge_Dataset_2022/Listing_Titles.tsv.gz', 'rb') as f_in:\n",
        " #   with open('/content/drive/MyDrive/eBay_ML_Challenge_Dataset_2022/Listing_Titles.tsv', 'wb') as f_out:\n",
        " #       shutil.copyfileobj(f_in, f_out)\n",
        "#unzip the gz file and copy it to the directory"
      ]
    },
    {
      "cell_type": "code",
      "execution_count": null,
      "metadata": {
        "id": "iFJRCikJ162U"
      },
      "outputs": [],
      "source": [
        "import pandas as pd\n",
        "import numpy as np\n",
        "import tensorflow as tf\n",
        "from keras import layers"
      ]
    },
    {
      "cell_type": "code",
      "execution_count": null,
      "metadata": {
        "id": "z6THtlYm1yH-"
      },
      "outputs": [],
      "source": [
        "!python -m spacy download en_core_web_trf"
      ]
    },
    {
      "cell_type": "code",
      "execution_count": null,
      "metadata": {
        "id": "47VGT9Qo4fIa"
      },
      "outputs": [],
      "source": [
        "!python -m venv .env\n",
        "!.env\\Scripts\\activate\n",
        "!pip install -U pip setuptools wheel\n",
        "!pip install -U 'spacy[cuda116,transformers,lookups]'\n",
        "!python -m spacy download en_core_web_trf"
      ]
    },
    {
      "cell_type": "code",
      "execution_count": null,
      "metadata": {
        "id": "YQoSa7Df267e"
      },
      "outputs": [],
      "source": [
        "import spacy\n",
        "nlp = spacy.blank(\"en\")"
      ]
    },
    {
      "cell_type": "code",
      "execution_count": null,
      "metadata": {
        "id": "0eeBznBU1k6O"
      },
      "outputs": [],
      "source": [
        "!python -m spacy info"
      ]
    },
    {
      "cell_type": "code",
      "execution_count": null,
      "metadata": {
        "id": "nQy-Y3lO0_Hz"
      },
      "outputs": [],
      "source": [
        "from spacy.tokens import DocBin\n",
        "db = DocBin()"
      ]
    },
    {
      "cell_type": "code",
      "execution_count": null,
      "metadata": {
        "id": "3VgGaxxBz4A9"
      },
      "outputs": [],
      "source": [
        "from tqdm import tqdm"
      ]
    },
    {
      "cell_type": "code",
      "execution_count": null,
      "metadata": {
        "id": "UcghSWCg2fuj"
      },
      "outputs": [],
      "source": [
        "train_path = '/content/drive/MyDrive/eBay_ML_Challenge_Dataset_2022/Train_Tagged_Titles.tsv.gz'"
      ]
    },
    {
      "cell_type": "code",
      "source": [
        "tags"
      ],
      "metadata": {
        "colab": {
          "base_uri": "https://localhost:8080/"
        },
        "id": "w2-Y6porXrp6",
        "outputId": "766cfe37-a8d5-482a-e362-c79661212256"
      },
      "execution_count": null,
      "outputs": [
        {
          "output_type": "execute_result",
          "data": {
            "text/plain": [
              "array(['Brand', 'MPN', 'Type', 'Model', 'Color', 'Fabric Type', 'Closure',\n",
              "       'Pattern', 'Material', 'No Tag', 'Product Line', 'Features',\n",
              "       'Theme', 'Country/Region of Manufacture', 'Occasion', 'Department',\n",
              "       'Size', 'Handle/Strap Material', 'Handle Style', 'Accents',\n",
              "       'Style', 'Hardware Material', 'Trim Material',\n",
              "       'Measurement, dimension', 'Pocket Type', 'Character', 'Obscure',\n",
              "       'Season', 'Character Family', 'Lining Material', 'Strap Drop',\n",
              "       'Handle Drop'], dtype='<U29')"
            ]
          },
          "metadata": {},
          "execution_count": 9
        }
      ]
    },
    {
      "cell_type": "code",
      "execution_count": null,
      "metadata": {
        "id": "xsecPM9f1EeG"
      },
      "outputs": [],
      "source": [
        "train_df = pd.read_csv(train_path, sep=\"\\\\\\t\", engine='python')\n"
      ]
    },
    {
      "cell_type": "code",
      "source": [
        "train_df.head()"
      ],
      "metadata": {
        "colab": {
          "base_uri": "https://localhost:8080/",
          "height": 206
        },
        "id": "lXhh6n2tZOq_",
        "outputId": "16fcf343-54e7-44b2-b682-9d1652ee59a0"
      },
      "execution_count": null,
      "outputs": [
        {
          "output_type": "execute_result",
          "data": {
            "text/plain": [
              "   Record Number                                              Title  \\\n",
              "0              1  LOUIS VUITTON M40096 Handbag Priscilla Multi-c...   \n",
              "1              1  LOUIS VUITTON M40096 Handbag Priscilla Multi-c...   \n",
              "2              1  LOUIS VUITTON M40096 Handbag Priscilla Multi-c...   \n",
              "3              1  LOUIS VUITTON M40096 Handbag Priscilla Multi-c...   \n",
              "4              1  LOUIS VUITTON M40096 Handbag Priscilla Multi-c...   \n",
              "\n",
              "       Token    Tag  \n",
              "0      LOUIS  Brand  \n",
              "1    VUITTON   None  \n",
              "2     M40096    MPN  \n",
              "3    Handbag   Type  \n",
              "4  Priscilla  Model  "
            ],
            "text/html": [
              "\n",
              "  <div id=\"df-d014ed25-da0c-41fc-b79c-75e3c9f85575\">\n",
              "    <div class=\"colab-df-container\">\n",
              "      <div>\n",
              "<style scoped>\n",
              "    .dataframe tbody tr th:only-of-type {\n",
              "        vertical-align: middle;\n",
              "    }\n",
              "\n",
              "    .dataframe tbody tr th {\n",
              "        vertical-align: top;\n",
              "    }\n",
              "\n",
              "    .dataframe thead th {\n",
              "        text-align: right;\n",
              "    }\n",
              "</style>\n",
              "<table border=\"1\" class=\"dataframe\">\n",
              "  <thead>\n",
              "    <tr style=\"text-align: right;\">\n",
              "      <th></th>\n",
              "      <th>Record Number</th>\n",
              "      <th>Title</th>\n",
              "      <th>Token</th>\n",
              "      <th>Tag</th>\n",
              "    </tr>\n",
              "  </thead>\n",
              "  <tbody>\n",
              "    <tr>\n",
              "      <th>0</th>\n",
              "      <td>1</td>\n",
              "      <td>LOUIS VUITTON M40096 Handbag Priscilla Multi-c...</td>\n",
              "      <td>LOUIS</td>\n",
              "      <td>Brand</td>\n",
              "    </tr>\n",
              "    <tr>\n",
              "      <th>1</th>\n",
              "      <td>1</td>\n",
              "      <td>LOUIS VUITTON M40096 Handbag Priscilla Multi-c...</td>\n",
              "      <td>VUITTON</td>\n",
              "      <td>None</td>\n",
              "    </tr>\n",
              "    <tr>\n",
              "      <th>2</th>\n",
              "      <td>1</td>\n",
              "      <td>LOUIS VUITTON M40096 Handbag Priscilla Multi-c...</td>\n",
              "      <td>M40096</td>\n",
              "      <td>MPN</td>\n",
              "    </tr>\n",
              "    <tr>\n",
              "      <th>3</th>\n",
              "      <td>1</td>\n",
              "      <td>LOUIS VUITTON M40096 Handbag Priscilla Multi-c...</td>\n",
              "      <td>Handbag</td>\n",
              "      <td>Type</td>\n",
              "    </tr>\n",
              "    <tr>\n",
              "      <th>4</th>\n",
              "      <td>1</td>\n",
              "      <td>LOUIS VUITTON M40096 Handbag Priscilla Multi-c...</td>\n",
              "      <td>Priscilla</td>\n",
              "      <td>Model</td>\n",
              "    </tr>\n",
              "  </tbody>\n",
              "</table>\n",
              "</div>\n",
              "      <button class=\"colab-df-convert\" onclick=\"convertToInteractive('df-d014ed25-da0c-41fc-b79c-75e3c9f85575')\"\n",
              "              title=\"Convert this dataframe to an interactive table.\"\n",
              "              style=\"display:none;\">\n",
              "        \n",
              "  <svg xmlns=\"http://www.w3.org/2000/svg\" height=\"24px\"viewBox=\"0 0 24 24\"\n",
              "       width=\"24px\">\n",
              "    <path d=\"M0 0h24v24H0V0z\" fill=\"none\"/>\n",
              "    <path d=\"M18.56 5.44l.94 2.06.94-2.06 2.06-.94-2.06-.94-.94-2.06-.94 2.06-2.06.94zm-11 1L8.5 8.5l.94-2.06 2.06-.94-2.06-.94L8.5 2.5l-.94 2.06-2.06.94zm10 10l.94 2.06.94-2.06 2.06-.94-2.06-.94-.94-2.06-.94 2.06-2.06.94z\"/><path d=\"M17.41 7.96l-1.37-1.37c-.4-.4-.92-.59-1.43-.59-.52 0-1.04.2-1.43.59L10.3 9.45l-7.72 7.72c-.78.78-.78 2.05 0 2.83L4 21.41c.39.39.9.59 1.41.59.51 0 1.02-.2 1.41-.59l7.78-7.78 2.81-2.81c.8-.78.8-2.07 0-2.86zM5.41 20L4 18.59l7.72-7.72 1.47 1.35L5.41 20z\"/>\n",
              "  </svg>\n",
              "      </button>\n",
              "      \n",
              "  <style>\n",
              "    .colab-df-container {\n",
              "      display:flex;\n",
              "      flex-wrap:wrap;\n",
              "      gap: 12px;\n",
              "    }\n",
              "\n",
              "    .colab-df-convert {\n",
              "      background-color: #E8F0FE;\n",
              "      border: none;\n",
              "      border-radius: 50%;\n",
              "      cursor: pointer;\n",
              "      display: none;\n",
              "      fill: #1967D2;\n",
              "      height: 32px;\n",
              "      padding: 0 0 0 0;\n",
              "      width: 32px;\n",
              "    }\n",
              "\n",
              "    .colab-df-convert:hover {\n",
              "      background-color: #E2EBFA;\n",
              "      box-shadow: 0px 1px 2px rgba(60, 64, 67, 0.3), 0px 1px 3px 1px rgba(60, 64, 67, 0.15);\n",
              "      fill: #174EA6;\n",
              "    }\n",
              "\n",
              "    [theme=dark] .colab-df-convert {\n",
              "      background-color: #3B4455;\n",
              "      fill: #D2E3FC;\n",
              "    }\n",
              "\n",
              "    [theme=dark] .colab-df-convert:hover {\n",
              "      background-color: #434B5C;\n",
              "      box-shadow: 0px 1px 3px 1px rgba(0, 0, 0, 0.15);\n",
              "      filter: drop-shadow(0px 1px 2px rgba(0, 0, 0, 0.3));\n",
              "      fill: #FFFFFF;\n",
              "    }\n",
              "  </style>\n",
              "\n",
              "      <script>\n",
              "        const buttonEl =\n",
              "          document.querySelector('#df-d014ed25-da0c-41fc-b79c-75e3c9f85575 button.colab-df-convert');\n",
              "        buttonEl.style.display =\n",
              "          google.colab.kernel.accessAllowed ? 'block' : 'none';\n",
              "\n",
              "        async function convertToInteractive(key) {\n",
              "          const element = document.querySelector('#df-d014ed25-da0c-41fc-b79c-75e3c9f85575');\n",
              "          const dataTable =\n",
              "            await google.colab.kernel.invokeFunction('convertToInteractive',\n",
              "                                                     [key], {});\n",
              "          if (!dataTable) return;\n",
              "\n",
              "          const docLinkHtml = 'Like what you see? Visit the ' +\n",
              "            '<a target=\"_blank\" href=https://colab.research.google.com/notebooks/data_table.ipynb>data table notebook</a>'\n",
              "            + ' to learn more about interactive tables.';\n",
              "          element.innerHTML = '';\n",
              "          dataTable['output_type'] = 'display_data';\n",
              "          await google.colab.output.renderOutput(dataTable, element);\n",
              "          const docLink = document.createElement('div');\n",
              "          docLink.innerHTML = docLinkHtml;\n",
              "          element.appendChild(docLink);\n",
              "        }\n",
              "      </script>\n",
              "    </div>\n",
              "  </div>\n",
              "  "
            ]
          },
          "metadata": {},
          "execution_count": 10
        }
      ]
    },
    {
      "cell_type": "code",
      "source": [
        "rslt_df = train_df[train_df['Tag'] == \"Character\"] \n"
      ],
      "metadata": {
        "id": "OXIzivW0ZGWq"
      },
      "execution_count": null,
      "outputs": []
    },
    {
      "cell_type": "code",
      "source": [
        "rslt_df.shape"
      ],
      "metadata": {
        "colab": {
          "base_uri": "https://localhost:8080/"
        },
        "id": "uO2YNeR7ZhA1",
        "outputId": "56004670-cc0e-47e6-ee3b-715f2478af35"
      },
      "execution_count": null,
      "outputs": [
        {
          "output_type": "execute_result",
          "data": {
            "text/plain": [
              "(50, 4)"
            ]
          },
          "metadata": {},
          "execution_count": 26
        }
      ]
    },
    {
      "cell_type": "code",
      "execution_count": null,
      "metadata": {
        "id": "PWXcb9BA5Gz0"
      },
      "outputs": [],
      "source": [
        "Listing_path = '/content/drive/MyDrive/eBay_ML_Challenge_Dataset_2022/Listing_Titles.tsv'"
      ]
    },
    {
      "cell_type": "code",
      "execution_count": null,
      "metadata": {
        "id": "NIZjeFso4lGN"
      },
      "outputs": [],
      "source": [
        "Listing_df = pd.read_csv(Listing_path, sep='\\\\\\t', engine='python')"
      ]
    },
    {
      "cell_type": "code",
      "execution_count": null,
      "metadata": {
        "id": "42v_pvst1Pz1"
      },
      "outputs": [],
      "source": [
        "tags = pd.DataFrame(train_df['Tag'].unique()).dropna()"
      ]
    },
    {
      "cell_type": "code",
      "execution_count": null,
      "metadata": {
        "id": "WUgO-EcqmhiX"
      },
      "outputs": [],
      "source": [
        "tags = np.ravel(np.array(tags).tolist())"
      ]
    },
    {
      "cell_type": "code",
      "source": [],
      "metadata": {
        "id": "mlREsqGkXrPt"
      },
      "execution_count": null,
      "outputs": []
    },
    {
      "cell_type": "code",
      "execution_count": null,
      "metadata": {
        "id": "h_7RAM2GEtFo"
      },
      "outputs": [],
      "source": [
        "train = Listing_df.iloc[:5000]['Title']"
      ]
    },
    {
      "cell_type": "code",
      "execution_count": null,
      "metadata": {
        "id": "Ei8s4-FVuAVA",
        "colab": {
          "base_uri": "https://localhost:8080/",
          "height": 206
        },
        "outputId": "d7e87e49-be90-4894-fabd-2075a8c699dc"
      },
      "outputs": [
        {
          "output_type": "execute_result",
          "data": {
            "text/plain": [
              "   Record Number                                              Title\n",
              "0              1  LOUIS VUITTON M40096 Handbag Priscilla Multi-c...\n",
              "1              2  LOUIS VUITTON Petit Noe Drawstring Shoulder Ba...\n",
              "2              3  LOUIS VUITTON Damier Azur Pochette Bosphore Sh...\n",
              "3              4  GUCCI Bamboo 2Way Shoulder Bag Leather Brown A...\n",
              "4              5  Rank AB Vintage Gucci Sherry line PVC Leather ..."
            ],
            "text/html": [
              "\n",
              "  <div id=\"df-e83317b4-76fe-4645-8817-503fdf2da4de\">\n",
              "    <div class=\"colab-df-container\">\n",
              "      <div>\n",
              "<style scoped>\n",
              "    .dataframe tbody tr th:only-of-type {\n",
              "        vertical-align: middle;\n",
              "    }\n",
              "\n",
              "    .dataframe tbody tr th {\n",
              "        vertical-align: top;\n",
              "    }\n",
              "\n",
              "    .dataframe thead th {\n",
              "        text-align: right;\n",
              "    }\n",
              "</style>\n",
              "<table border=\"1\" class=\"dataframe\">\n",
              "  <thead>\n",
              "    <tr style=\"text-align: right;\">\n",
              "      <th></th>\n",
              "      <th>Record Number</th>\n",
              "      <th>Title</th>\n",
              "    </tr>\n",
              "  </thead>\n",
              "  <tbody>\n",
              "    <tr>\n",
              "      <th>0</th>\n",
              "      <td>1</td>\n",
              "      <td>LOUIS VUITTON M40096 Handbag Priscilla Multi-c...</td>\n",
              "    </tr>\n",
              "    <tr>\n",
              "      <th>1</th>\n",
              "      <td>2</td>\n",
              "      <td>LOUIS VUITTON Petit Noe Drawstring Shoulder Ba...</td>\n",
              "    </tr>\n",
              "    <tr>\n",
              "      <th>2</th>\n",
              "      <td>3</td>\n",
              "      <td>LOUIS VUITTON Damier Azur Pochette Bosphore Sh...</td>\n",
              "    </tr>\n",
              "    <tr>\n",
              "      <th>3</th>\n",
              "      <td>4</td>\n",
              "      <td>GUCCI Bamboo 2Way Shoulder Bag Leather Brown A...</td>\n",
              "    </tr>\n",
              "    <tr>\n",
              "      <th>4</th>\n",
              "      <td>5</td>\n",
              "      <td>Rank AB Vintage Gucci Sherry line PVC Leather ...</td>\n",
              "    </tr>\n",
              "  </tbody>\n",
              "</table>\n",
              "</div>\n",
              "      <button class=\"colab-df-convert\" onclick=\"convertToInteractive('df-e83317b4-76fe-4645-8817-503fdf2da4de')\"\n",
              "              title=\"Convert this dataframe to an interactive table.\"\n",
              "              style=\"display:none;\">\n",
              "        \n",
              "  <svg xmlns=\"http://www.w3.org/2000/svg\" height=\"24px\"viewBox=\"0 0 24 24\"\n",
              "       width=\"24px\">\n",
              "    <path d=\"M0 0h24v24H0V0z\" fill=\"none\"/>\n",
              "    <path d=\"M18.56 5.44l.94 2.06.94-2.06 2.06-.94-2.06-.94-.94-2.06-.94 2.06-2.06.94zm-11 1L8.5 8.5l.94-2.06 2.06-.94-2.06-.94L8.5 2.5l-.94 2.06-2.06.94zm10 10l.94 2.06.94-2.06 2.06-.94-2.06-.94-.94-2.06-.94 2.06-2.06.94z\"/><path d=\"M17.41 7.96l-1.37-1.37c-.4-.4-.92-.59-1.43-.59-.52 0-1.04.2-1.43.59L10.3 9.45l-7.72 7.72c-.78.78-.78 2.05 0 2.83L4 21.41c.39.39.9.59 1.41.59.51 0 1.02-.2 1.41-.59l7.78-7.78 2.81-2.81c.8-.78.8-2.07 0-2.86zM5.41 20L4 18.59l7.72-7.72 1.47 1.35L5.41 20z\"/>\n",
              "  </svg>\n",
              "      </button>\n",
              "      \n",
              "  <style>\n",
              "    .colab-df-container {\n",
              "      display:flex;\n",
              "      flex-wrap:wrap;\n",
              "      gap: 12px;\n",
              "    }\n",
              "\n",
              "    .colab-df-convert {\n",
              "      background-color: #E8F0FE;\n",
              "      border: none;\n",
              "      border-radius: 50%;\n",
              "      cursor: pointer;\n",
              "      display: none;\n",
              "      fill: #1967D2;\n",
              "      height: 32px;\n",
              "      padding: 0 0 0 0;\n",
              "      width: 32px;\n",
              "    }\n",
              "\n",
              "    .colab-df-convert:hover {\n",
              "      background-color: #E2EBFA;\n",
              "      box-shadow: 0px 1px 2px rgba(60, 64, 67, 0.3), 0px 1px 3px 1px rgba(60, 64, 67, 0.15);\n",
              "      fill: #174EA6;\n",
              "    }\n",
              "\n",
              "    [theme=dark] .colab-df-convert {\n",
              "      background-color: #3B4455;\n",
              "      fill: #D2E3FC;\n",
              "    }\n",
              "\n",
              "    [theme=dark] .colab-df-convert:hover {\n",
              "      background-color: #434B5C;\n",
              "      box-shadow: 0px 1px 3px 1px rgba(0, 0, 0, 0.15);\n",
              "      filter: drop-shadow(0px 1px 2px rgba(0, 0, 0, 0.3));\n",
              "      fill: #FFFFFF;\n",
              "    }\n",
              "  </style>\n",
              "\n",
              "      <script>\n",
              "        const buttonEl =\n",
              "          document.querySelector('#df-e83317b4-76fe-4645-8817-503fdf2da4de button.colab-df-convert');\n",
              "        buttonEl.style.display =\n",
              "          google.colab.kernel.accessAllowed ? 'block' : 'none';\n",
              "\n",
              "        async function convertToInteractive(key) {\n",
              "          const element = document.querySelector('#df-e83317b4-76fe-4645-8817-503fdf2da4de');\n",
              "          const dataTable =\n",
              "            await google.colab.kernel.invokeFunction('convertToInteractive',\n",
              "                                                     [key], {});\n",
              "          if (!dataTable) return;\n",
              "\n",
              "          const docLinkHtml = 'Like what you see? Visit the ' +\n",
              "            '<a target=\"_blank\" href=https://colab.research.google.com/notebooks/data_table.ipynb>data table notebook</a>'\n",
              "            + ' to learn more about interactive tables.';\n",
              "          element.innerHTML = '';\n",
              "          dataTable['output_type'] = 'display_data';\n",
              "          await google.colab.output.renderOutput(dataTable, element);\n",
              "          const docLink = document.createElement('div');\n",
              "          docLink.innerHTML = docLinkHtml;\n",
              "          element.appendChild(docLink);\n",
              "        }\n",
              "      </script>\n",
              "    </div>\n",
              "  </div>\n",
              "  "
            ]
          },
          "metadata": {},
          "execution_count": 14
        }
      ],
      "source": [
        "Listing_df.head()"
      ]
    },
    {
      "cell_type": "code",
      "source": [
        "train_df.head()"
      ],
      "metadata": {
        "colab": {
          "base_uri": "https://localhost:8080/",
          "height": 206
        },
        "id": "XxjZcGUYhM-0",
        "outputId": "7ab92f0e-6157-474f-8775-cea326a5472a"
      },
      "execution_count": null,
      "outputs": [
        {
          "output_type": "execute_result",
          "data": {
            "text/plain": [
              "  Record Number                                              Title      Token  \\\n",
              "0             1  LOUIS VUITTON M40096 Handbag Priscilla Multi-c...      LOUIS   \n",
              "1             1  LOUIS VUITTON M40096 Handbag Priscilla Multi-c...    VUITTON   \n",
              "2             1  LOUIS VUITTON M40096 Handbag Priscilla Multi-c...     M40096   \n",
              "3             1  LOUIS VUITTON M40096 Handbag Priscilla Multi-c...    Handbag   \n",
              "4             1  LOUIS VUITTON M40096 Handbag Priscilla Multi-c...  Priscilla   \n",
              "\n",
              "     Tag  \n",
              "0  Brand  \n",
              "1   None  \n",
              "2    MPN  \n",
              "3   Type  \n",
              "4  Model  "
            ],
            "text/html": [
              "\n",
              "  <div id=\"df-a4b3c107-025b-47c6-9ed0-a18648f5ec08\">\n",
              "    <div class=\"colab-df-container\">\n",
              "      <div>\n",
              "<style scoped>\n",
              "    .dataframe tbody tr th:only-of-type {\n",
              "        vertical-align: middle;\n",
              "    }\n",
              "\n",
              "    .dataframe tbody tr th {\n",
              "        vertical-align: top;\n",
              "    }\n",
              "\n",
              "    .dataframe thead th {\n",
              "        text-align: right;\n",
              "    }\n",
              "</style>\n",
              "<table border=\"1\" class=\"dataframe\">\n",
              "  <thead>\n",
              "    <tr style=\"text-align: right;\">\n",
              "      <th></th>\n",
              "      <th>Record Number</th>\n",
              "      <th>Title</th>\n",
              "      <th>Token</th>\n",
              "      <th>Tag</th>\n",
              "    </tr>\n",
              "  </thead>\n",
              "  <tbody>\n",
              "    <tr>\n",
              "      <th>0</th>\n",
              "      <td>1</td>\n",
              "      <td>LOUIS VUITTON M40096 Handbag Priscilla Multi-c...</td>\n",
              "      <td>LOUIS</td>\n",
              "      <td>Brand</td>\n",
              "    </tr>\n",
              "    <tr>\n",
              "      <th>1</th>\n",
              "      <td>1</td>\n",
              "      <td>LOUIS VUITTON M40096 Handbag Priscilla Multi-c...</td>\n",
              "      <td>VUITTON</td>\n",
              "      <td>None</td>\n",
              "    </tr>\n",
              "    <tr>\n",
              "      <th>2</th>\n",
              "      <td>1</td>\n",
              "      <td>LOUIS VUITTON M40096 Handbag Priscilla Multi-c...</td>\n",
              "      <td>M40096</td>\n",
              "      <td>MPN</td>\n",
              "    </tr>\n",
              "    <tr>\n",
              "      <th>3</th>\n",
              "      <td>1</td>\n",
              "      <td>LOUIS VUITTON M40096 Handbag Priscilla Multi-c...</td>\n",
              "      <td>Handbag</td>\n",
              "      <td>Type</td>\n",
              "    </tr>\n",
              "    <tr>\n",
              "      <th>4</th>\n",
              "      <td>1</td>\n",
              "      <td>LOUIS VUITTON M40096 Handbag Priscilla Multi-c...</td>\n",
              "      <td>Priscilla</td>\n",
              "      <td>Model</td>\n",
              "    </tr>\n",
              "  </tbody>\n",
              "</table>\n",
              "</div>\n",
              "      <button class=\"colab-df-convert\" onclick=\"convertToInteractive('df-a4b3c107-025b-47c6-9ed0-a18648f5ec08')\"\n",
              "              title=\"Convert this dataframe to an interactive table.\"\n",
              "              style=\"display:none;\">\n",
              "        \n",
              "  <svg xmlns=\"http://www.w3.org/2000/svg\" height=\"24px\"viewBox=\"0 0 24 24\"\n",
              "       width=\"24px\">\n",
              "    <path d=\"M0 0h24v24H0V0z\" fill=\"none\"/>\n",
              "    <path d=\"M18.56 5.44l.94 2.06.94-2.06 2.06-.94-2.06-.94-.94-2.06-.94 2.06-2.06.94zm-11 1L8.5 8.5l.94-2.06 2.06-.94-2.06-.94L8.5 2.5l-.94 2.06-2.06.94zm10 10l.94 2.06.94-2.06 2.06-.94-2.06-.94-.94-2.06-.94 2.06-2.06.94z\"/><path d=\"M17.41 7.96l-1.37-1.37c-.4-.4-.92-.59-1.43-.59-.52 0-1.04.2-1.43.59L10.3 9.45l-7.72 7.72c-.78.78-.78 2.05 0 2.83L4 21.41c.39.39.9.59 1.41.59.51 0 1.02-.2 1.41-.59l7.78-7.78 2.81-2.81c.8-.78.8-2.07 0-2.86zM5.41 20L4 18.59l7.72-7.72 1.47 1.35L5.41 20z\"/>\n",
              "  </svg>\n",
              "      </button>\n",
              "      \n",
              "  <style>\n",
              "    .colab-df-container {\n",
              "      display:flex;\n",
              "      flex-wrap:wrap;\n",
              "      gap: 12px;\n",
              "    }\n",
              "\n",
              "    .colab-df-convert {\n",
              "      background-color: #E8F0FE;\n",
              "      border: none;\n",
              "      border-radius: 50%;\n",
              "      cursor: pointer;\n",
              "      display: none;\n",
              "      fill: #1967D2;\n",
              "      height: 32px;\n",
              "      padding: 0 0 0 0;\n",
              "      width: 32px;\n",
              "    }\n",
              "\n",
              "    .colab-df-convert:hover {\n",
              "      background-color: #E2EBFA;\n",
              "      box-shadow: 0px 1px 2px rgba(60, 64, 67, 0.3), 0px 1px 3px 1px rgba(60, 64, 67, 0.15);\n",
              "      fill: #174EA6;\n",
              "    }\n",
              "\n",
              "    [theme=dark] .colab-df-convert {\n",
              "      background-color: #3B4455;\n",
              "      fill: #D2E3FC;\n",
              "    }\n",
              "\n",
              "    [theme=dark] .colab-df-convert:hover {\n",
              "      background-color: #434B5C;\n",
              "      box-shadow: 0px 1px 3px 1px rgba(0, 0, 0, 0.15);\n",
              "      filter: drop-shadow(0px 1px 2px rgba(0, 0, 0, 0.3));\n",
              "      fill: #FFFFFF;\n",
              "    }\n",
              "  </style>\n",
              "\n",
              "      <script>\n",
              "        const buttonEl =\n",
              "          document.querySelector('#df-a4b3c107-025b-47c6-9ed0-a18648f5ec08 button.colab-df-convert');\n",
              "        buttonEl.style.display =\n",
              "          google.colab.kernel.accessAllowed ? 'block' : 'none';\n",
              "\n",
              "        async function convertToInteractive(key) {\n",
              "          const element = document.querySelector('#df-a4b3c107-025b-47c6-9ed0-a18648f5ec08');\n",
              "          const dataTable =\n",
              "            await google.colab.kernel.invokeFunction('convertToInteractive',\n",
              "                                                     [key], {});\n",
              "          if (!dataTable) return;\n",
              "\n",
              "          const docLinkHtml = 'Like what you see? Visit the ' +\n",
              "            '<a target=\"_blank\" href=https://colab.research.google.com/notebooks/data_table.ipynb>data table notebook</a>'\n",
              "            + ' to learn more about interactive tables.';\n",
              "          element.innerHTML = '';\n",
              "          dataTable['output_type'] = 'display_data';\n",
              "          await google.colab.output.renderOutput(dataTable, element);\n",
              "          const docLink = document.createElement('div');\n",
              "          docLink.innerHTML = docLinkHtml;\n",
              "          element.appendChild(docLink);\n",
              "        }\n",
              "      </script>\n",
              "    </div>\n",
              "  </div>\n",
              "  "
            ]
          },
          "metadata": {},
          "execution_count": 21
        }
      ]
    },
    {
      "cell_type": "code",
      "source": [
        "new_train = merge_tagged_identities(train_df)"
      ],
      "metadata": {
        "id": "qblVTs5khRPz"
      },
      "execution_count": null,
      "outputs": []
    },
    {
      "cell_type": "code",
      "source": [
        "new_train.shape"
      ],
      "metadata": {
        "colab": {
          "base_uri": "https://localhost:8080/"
        },
        "id": "Jl5a3UMmhY4n",
        "outputId": "b90fe6e1-53e6-4b0b-b7b0-5b07608cb90d"
      },
      "execution_count": null,
      "outputs": [
        {
          "output_type": "execute_result",
          "data": {
            "text/plain": [
              "(48200, 4)"
            ]
          },
          "metadata": {},
          "execution_count": 13
        }
      ]
    },
    {
      "cell_type": "code",
      "source": [
        "new_train.to_csv('/content/drive/MyDrive/eBay_ML_Challenge_Dataset_2022/train_merged_entities.tsv', sep=\"\\t\", index = False)"
      ],
      "metadata": {
        "id": "NEMKa8xoQ4ao"
      },
      "execution_count": null,
      "outputs": []
    },
    {
      "cell_type": "code",
      "execution_count": null,
      "metadata": {
        "id": "IoTQcwPa-zux"
      },
      "outputs": [],
      "source": [
        "def merge_tagged_identities(train_df):\n",
        "  train_df = pd.DataFrame(train_df)\n",
        "  drop = []\n",
        "  processed = train_df.copy(deep=True)\n",
        "  count = 0\n",
        "  for i, j in train_df.iterrows():\n",
        "    if j[3] == None:\n",
        "      count += 1\n",
        "      drop.append(i)\n",
        "    elif count > 0:\n",
        "      processed.iat[i-count-1,2]=\" \".join([processed.iloc[i-k][2] for k in range(1,count+2)][::-1])\n",
        "      count = 0\n",
        "  processed=processed[processed['Tag'].notna()]\n",
        "  processed = processed.reset_index(drop = True)\n",
        "  return processed"
      ]
    },
    {
      "cell_type": "code",
      "execution_count": null,
      "metadata": {
        "id": "xGfpO4kQ_abf"
      },
      "outputs": [],
      "source": [
        "def extract_entites(train_df):\n",
        "  processed = merge_tagged_identities(train_df)\n",
        "  all_ent = []\n",
        "  pos = 0\n",
        "  ent = {'entites':[]}\n",
        "  for i, j in processed.iterrows():\n",
        "    if pos != 0:\n",
        "      pos = pos + 1\n",
        "    ent['entites'].append((pos, pos+len(j[2]), j[3]))\n",
        "    pos = pos+len(j[2])\n",
        "    if i+1 < len(processed):\n",
        "      if processed.iloc[i+1][\"Record Number\"]>j[0]:\n",
        "        pos = 0 \n",
        "        all_ent.append(ent)\n",
        "        ent = {'entites':[]}\n",
        "  all_ent.append(ent)\n",
        "  return all_ent"
      ]
    },
    {
      "cell_type": "code",
      "execution_count": null,
      "metadata": {
        "id": "KRPQTPZ6_csS"
      },
      "outputs": [],
      "source": [
        "def merge_entites_w_data(train, train_df):\n",
        "  all_ent = extract_entites(train_df)\n",
        "  train = pd.DataFrame(train)\n",
        "  all_ent = pd.DataFrame(all_ent)\n",
        "  n_train = train.join(all_ent)\n",
        "  n_train['entites'] = n_train['entites'].apply(lambda x:{'entities': x})\n",
        "  exam = n_train.apply(lambda x : (x[0],x[1]), axis = 1)\n",
        "  exam = np.array(exam).tolist()\n",
        "  return exam"
      ]
    },
    {
      "cell_type": "code",
      "execution_count": null,
      "metadata": {
        "id": "HwSB7iNEB-Xj"
      },
      "outputs": [],
      "source": [
        "exam = merge_entites_w_data(train, train_df)\n",
        "training = exam[:4000]\n",
        "validation = exam[4000:]"
      ]
    },
    {
      "cell_type": "code",
      "source": [
        "print(len(validation))"
      ],
      "metadata": {
        "id": "WlhIDrA9icIW"
      },
      "execution_count": null,
      "outputs": []
    },
    {
      "cell_type": "code",
      "source": [
        "training[0]"
      ],
      "metadata": {
        "colab": {
          "base_uri": "https://localhost:8080/"
        },
        "id": "C06PFV2Rg6al",
        "outputId": "19b16aa0-c738-42ff-c8ab-825648bec4c7"
      },
      "execution_count": null,
      "outputs": [
        {
          "output_type": "execute_result",
          "data": {
            "text/plain": [
              "('LOUIS VUITTON M40096 Handbag Priscilla Multi-color canvas Multi-color canvas',\n",
              " {'entities': [(0, 13, 'Brand'),\n",
              "   (14, 20, 'MPN'),\n",
              "   (21, 28, 'Type'),\n",
              "   (29, 38, 'Model'),\n",
              "   (39, 50, 'Color'),\n",
              "   (51, 57, 'Fabric Type'),\n",
              "   (58, 69, 'Color'),\n",
              "   (70, 76, 'Fabric Type')]})"
            ]
          },
          "metadata": {},
          "execution_count": 40
        }
      ]
    },
    {
      "cell_type": "code",
      "execution_count": null,
      "metadata": {
        "id": "vdQ_tA8anhUq"
      },
      "outputs": [],
      "source": [
        "import json\n",
        "def convert_to_docbin(data, tags, filename, pretrain):\n",
        "  if not pretrain:\n",
        "    data={\"annotations\":data,\"classes\": tags.tolist()} \n",
        "    data = json.dumps(data)\n",
        "    loaded_data = json.loads(data)\n",
        "    type(loaded_data) \n",
        "    for text, annot in tqdm(loaded_data[\"annotations\"]):\n",
        "      doc = nlp.make_doc(text)\n",
        "      ents = []\n",
        "      for start, end, label in annot[\"entities\"]:\n",
        "        span = doc.char_span(start, end, label = label, alignment_mode=\"contract\")\n",
        "        if span is None:\n",
        "          print(\"skipping entity\")\n",
        "        else:\n",
        "          ents.append(span)\n",
        "      doc.ents = ents\n",
        "      db.add(doc)\n",
        "    db.to_disk(\"./drive/MyDrive/eBay_ML_Challenge_Dataset_2022/{}\".format(filename))\n",
        "  else:\n",
        "    data = {\"text\":data}\n",
        "    for i in data:\n",
        "      doc = nlp.make_doc(i)\n",
        "      db.add(doc)\n",
        "    db.to_disk(\"./drive/MyDrive/eBay_ML_Challenge_Dataset_2022/{}\".format(filename))\n",
        "\n"
      ]
    },
    {
      "cell_type": "code",
      "execution_count": null,
      "metadata": {
        "id": "6_Na7e2IwyGh"
      },
      "outputs": [],
      "source": [
        "pretrain = np.array(Listing_df.Title)\n"
      ]
    },
    {
      "cell_type": "code",
      "execution_count": null,
      "metadata": {
        "colab": {
          "base_uri": "https://localhost:8080/"
        },
        "id": "Uy9LHqEuzjs1",
        "outputId": "eccfe49f-3722-427e-e050-faaff251f929"
      },
      "outputs": [
        {
          "data": {
            "text/plain": [
              "LOUIS VUITTON M40096 Handbag Priscilla Multi-color canvas Multi-color canvas"
            ]
          },
          "execution_count": 65,
          "metadata": {},
          "output_type": "execute_result"
        }
      ],
      "source": [
        "nlp.make_doc(pretrain[0])"
      ]
    },
    {
      "cell_type": "code",
      "execution_count": null,
      "metadata": {
        "id": "vj23p6NlvC2d"
      },
      "outputs": [],
      "source": [
        "convert_to_docbin(Listing_df, tags, 'pertraining.spacy', True)\n"
      ]
    },
    {
      "cell_type": "code",
      "execution_count": null,
      "metadata": {
        "id": "loR7cTwWi-tz"
      },
      "outputs": [],
      "source": [
        "convert_to_docbin(training, tags, 'training.spacy', False)\n",
        "convert_to_docbin(validation, tags, 'validation.spacy', False)\n"
      ]
    },
    {
      "cell_type": "code",
      "execution_count": null,
      "metadata": {
        "id": "0YPL1VCEINtJ"
      },
      "outputs": [],
      "source": [
        "!python -m spacy init fill-config /content/drive/MyDrive/eBay_ML_Challenge_Dataset_2022/base_config_without_trf.cfg config_pretrain.cfg --pretraining"
      ]
    },
    {
      "cell_type": "code",
      "execution_count": null,
      "metadata": {
        "id": "EWwLDk8PK1Yn"
      },
      "outputs": [],
      "source": [
        "!python -m spacy pretrain config_pretrain.cfg ./output_pretrain --paths.raw_text /content/drive/MyDrive/eBay_ML_Challenge_Dataset_2022/pertraining.spacy"
      ]
    },
    {
      "cell_type": "code",
      "execution_count": null,
      "metadata": {
        "colab": {
          "base_uri": "https://localhost:8080/"
        },
        "id": "HTLYX-XDzKyS",
        "outputId": "e90c911a-ff10-46a7-e015-eaa3f74f7452"
      },
      "outputs": [
        {
          "output_type": "stream",
          "name": "stdout",
          "text": [
            "\u001b[38;5;2m✔ Auto-filled config with all values\u001b[0m\n",
            "\u001b[38;5;2m✔ Saved config\u001b[0m\n",
            "config.cfg\n",
            "You can now add your data and train your pipeline:\n",
            "python -m spacy train config.cfg --paths.train ./train.spacy --paths.dev ./dev.spacy\n"
          ]
        }
      ],
      "source": [
        "!python -m spacy init fill-config /content/drive/MyDrive/eBay_ML_Challenge_Dataset_2022/base_config.cfg config.cfg"
      ]
    },
    {
      "cell_type": "code",
      "execution_count": null,
      "metadata": {
        "colab": {
          "base_uri": "https://localhost:8080/"
        },
        "id": "xTzmihDDzK3q",
        "outputId": "2dc054a6-5e03-40ff-dfaa-58303b2feaf2"
      },
      "outputs": [
        {
          "output_type": "stream",
          "name": "stdout",
          "text": [
            "\u001b[38;5;2m✔ Created output directory:\n",
            "drive/MyDrive/eBay_ML_Challenge_Dataset_2022/output_trf_v4\u001b[0m\n",
            "\u001b[38;5;4mℹ Saving to output directory:\n",
            "drive/MyDrive/eBay_ML_Challenge_Dataset_2022/output_trf_v4\u001b[0m\n",
            "\u001b[38;5;4mℹ Using GPU: 0\u001b[0m\n",
            "\u001b[1m\n",
            "=========================== Initializing pipeline ===========================\u001b[0m\n",
            "[2022-08-07 18:36:20,220] [INFO] Set up nlp object from config\n",
            "[2022-08-07 18:36:20,233] [INFO] Pipeline: ['transformer', 'ner']\n",
            "[2022-08-07 18:36:20,237] [INFO] Created vocabulary\n",
            "[2022-08-07 18:36:20,239] [INFO] Finished initializing nlp object\n",
            "Downloading: 100% 481/481 [00:00<00:00, 509kB/s]\n",
            "Downloading: 100% 878k/878k [00:00<00:00, 7.33MB/s]\n",
            "Downloading: 100% 446k/446k [00:00<00:00, 5.77MB/s]\n",
            "Downloading: 100% 1.29M/1.29M [00:00<00:00, 9.77MB/s]\n",
            "Downloading: 100% 478M/478M [00:09<00:00, 51.1MB/s]\n",
            "Some weights of the model checkpoint at roberta-base were not used when initializing RobertaModel: ['lm_head.layer_norm.weight', 'lm_head.decoder.weight', 'lm_head.dense.weight', 'lm_head.bias', 'lm_head.layer_norm.bias', 'lm_head.dense.bias']\n",
            "- This IS expected if you are initializing RobertaModel from the checkpoint of a model trained on another task or with another architecture (e.g. initializing a BertForSequenceClassification model from a BertForPreTraining model).\n",
            "- This IS NOT expected if you are initializing RobertaModel from the checkpoint of a model that you expect to be exactly identical (initializing a BertForSequenceClassification model from a BertForSequenceClassification model).\n",
            "[2022-08-07 18:36:47,050] [INFO] Initialized pipeline components: ['transformer', 'ner']\n",
            "\u001b[38;5;2m✔ Initialized pipeline\u001b[0m\n",
            "\u001b[1m\n",
            "============================= Training pipeline =============================\u001b[0m\n",
            "\u001b[38;5;4mℹ Pipeline: ['transformer', 'ner']\u001b[0m\n",
            "\u001b[38;5;4mℹ Initial learn rate: 0.0\u001b[0m\n",
            "E    #       LOSS TRANS...  LOSS NER  ENTS_F  ENTS_P  ENTS_R  SCORE \n",
            "---  ------  -------------  --------  ------  ------  ------  ------\n",
            "  0       0         593.41   1258.51    0.20    0.13    0.47    0.00\n",
            "  6     200       70352.76  148460.60    9.68   27.62    5.87    0.10\n",
            " 12     400       50685.05  111861.55   15.93   31.63   10.65    0.16\n",
            " 18     600       46898.98  100217.98   28.62   37.61   23.10    0.29\n",
            " 24     800       43493.05  87237.73   45.84   50.58   41.91    0.46\n",
            " 31    1000       38775.09  72109.88   59.35   65.56   54.22    0.59\n",
            " 37    1200       34923.36  57385.11   69.66   72.32   67.18    0.70\n",
            " 43    1400       31200.31  43891.93   76.22   77.96   74.56    0.76\n",
            " 49    1600       23852.74  31480.43   79.80   81.05   78.58    0.80\n",
            " 56    1800       17653.97  21908.47   81.79   83.18   80.45    0.82\n",
            " 62    2000       13325.68  15435.77   83.31   85.99   80.80    0.83\n",
            " 68    2200        9510.97  10989.02   83.36   85.42   81.39    0.83\n",
            " 74    2400        7925.61   8534.58   83.08   85.00   81.25    0.83\n",
            " 81    2600        6020.49   6537.08   83.46   85.43   81.58    0.83\n",
            " 87    2800        4831.82   5189.45   83.87   86.28   81.60    0.84\n",
            " 93    3000        4019.65   4293.15   83.65   85.92   81.50    0.84\n",
            " 99    3200        3677.77   3789.74   83.30   84.90   81.76    0.83\n",
            "105    3400        3414.80   3437.24   84.26   87.21   81.50    0.84\n",
            "112    3600        2996.18   3117.60   84.10   86.92   81.45    0.84\n",
            "118    3800        2776.55   2741.97   84.01   86.62   81.55    0.84\n",
            "124    4000        2436.57   2477.25   83.95   86.61   81.44    0.84\n",
            "130    4200        2271.00   2267.98   83.43   85.34   81.60    0.83\n",
            "137    4400        2084.71   2126.54   83.53   85.66   81.51    0.84\n",
            "143    4600        2026.60   1997.78   83.16   84.92   81.47    0.83\n",
            "149    4800        1834.35   1873.02   83.93   86.54   81.47    0.84\n",
            "155    5000        1816.83   1774.33   84.05   86.87   81.40    0.84\n",
            "\u001b[38;5;2m✔ Saved pipeline to output directory\u001b[0m\n",
            "drive/MyDrive/eBay_ML_Challenge_Dataset_2022/output_trf_v4/model-last\n"
          ]
        }
      ],
      "source": [
        "!python -m spacy train config.cfg --output ./drive/MyDrive/eBay_ML_Challenge_Dataset_2022/output_trf_v4 --paths.train ./drive/MyDrive/eBay_ML_Challenge_Dataset_2022/training.spacy --paths.dev ./drive/MyDrive/eBay_ML_Challenge_Dataset_2022/validation.spacy --gpu-id 0"
      ]
    },
    {
      "cell_type": "code",
      "execution_count": null,
      "metadata": {
        "id": "bVUun7Xv7Tmr"
      },
      "outputs": [],
      "source": [
        "import spacy\n",
        "nlp2 = spacy.load('/content/drive/MyDrive/eBay_ML_Challenge_Dataset_2022/output_trf_v4/model-best')"
      ]
    },
    {
      "cell_type": "code",
      "execution_count": null,
      "metadata": {
        "id": "fBhp08nJAI4B"
      },
      "outputs": [],
      "source": [
        "#label = processed[['Record Number','Token', 'Tag']].copy()\n",
        "quiz_data = Listing_df[5000:30000]"
      ]
    },
    {
      "cell_type": "code",
      "execution_count": null,
      "metadata": {
        "id": "AUsJraBXKISB"
      },
      "outputs": [],
      "source": [
        "def prediction(quiz_data):\n",
        "  column_names = ['Record number','Aspect Name', 'Aspect Value']\n",
        "  predicted = pd.DataFrame(columns = column_names)\n",
        "  count = 0\n",
        "  for i, j in tqdm(quiz_data.iterrows(), total=quiz_data.shape[0]):\n",
        "    doc2 = nlp2(j[1])\n",
        "    for ent in doc2.ents:\n",
        "      predicted.loc[count] = [j[0], ent.label_, ent.text] \n",
        "      count+=1\n",
        "  return predicted"
      ]
    },
    {
      "cell_type": "code",
      "execution_count": null,
      "metadata": {
        "id": "qKD0CxXA3YCL"
      },
      "outputs": [],
      "source": [
        "def drop_tag(predicted):\n",
        "  predicted = predicted[predicted['Aspect Name'] != 'Obscure']\n",
        "  predicted = predicted[predicted['Aspect Name'] != 'No Tag']\n",
        "  predicted=predicted.set_index('Record number', drop = True)\n",
        "  return predicted"
      ]
    },
    {
      "cell_type": "code",
      "source": [
        "import spacy\n",
        "nlp3 = spacy.load('/content/drive/MyDrive/eBay_ML_Challenge_Dataset_2022/output_4_1/model-best')"
      ],
      "metadata": {
        "colab": {
          "base_uri": "https://localhost:8080/"
        },
        "id": "oILuQeFLJxqX",
        "outputId": "1a7c1eae-d24c-4c04-91e6-ac79f3a8bd4d"
      },
      "execution_count": null,
      "outputs": [
        {
          "output_type": "stream",
          "name": "stderr",
          "text": [
            "/usr/local/lib/python3.7/dist-packages/spacy/util.py:865: UserWarning: [W095] Model 'en_pipeline' (0.0.0) was trained with spaCy v3.3 and may not be 100% compatible with the current version (3.4.1). If you see errors or degraded performance, download a newer compatible model or retrain your custom model with the current spaCy version. For more details and available updates, run: python -m spacy validate\n",
            "  warnings.warn(warn_msg)\n"
          ]
        }
      ]
    },
    {
      "cell_type": "code",
      "source": [
        "a = nlp3(\"HOBO INTERNATIONAL Women 's VINTAGE LEATHER Shoulder Bag CROSSBODY\")\n",
        "print(a.ents)\n",
        "for ent in a.ents:\n",
        "  print([ent.label_, ent.text] )\n"
      ],
      "metadata": {
        "colab": {
          "base_uri": "https://localhost:8080/"
        },
        "id": "q-eapV3zKDxC",
        "outputId": "be67ca54-9462-4985-bfc7-b5227418290b"
      },
      "execution_count": null,
      "outputs": [
        {
          "output_type": "stream",
          "name": "stdout",
          "text": [
            "(HOBO INTERNATIONAL, Women 's, VINTAGE, LEATHER, Shoulder, Bag, CROSSBODY)\n",
            "['Brand', 'HOBO INTERNATIONAL']\n",
            "['Department', \"Women 's\"]\n",
            "['No Tag', 'VINTAGE']\n",
            "['Material', 'LEATHER']\n",
            "['Type', 'Shoulder']\n",
            "['Type', 'Bag']\n",
            "['Type', 'CROSSBODY']\n"
          ]
        }
      ]
    },
    {
      "cell_type": "code",
      "source": [
        "b = nlp2(\"HOBO INTERNATIONAL Women 's VINTAGE LEATHER Shoulder Bag CROSSBODY\")\n",
        "print(b)\n",
        "for ent in b.ents:\n",
        "  print([ent.label_, ent.text] )\n"
      ],
      "metadata": {
        "colab": {
          "base_uri": "https://localhost:8080/"
        },
        "id": "4FOykLWYK_pB",
        "outputId": "19473ebc-14cb-409b-a71a-6920909feab8"
      },
      "execution_count": null,
      "outputs": [
        {
          "output_type": "stream",
          "name": "stdout",
          "text": [
            "HOBO INTERNATIONAL Women 's VINTAGE LEATHER Shoulder Bag CROSSBODY\n",
            "['Brand', 'HOBO']\n",
            "['Accents', \"'s\"]\n",
            "['Type', 'Bag']\n"
          ]
        }
      ]
    },
    {
      "cell_type": "code",
      "execution_count": null,
      "metadata": {
        "id": "AJpdt8tMJ7dS",
        "colab": {
          "base_uri": "https://localhost:8080/"
        },
        "outputId": "5ab3788b-ef7c-45b3-a15b-79e4d03444f2"
      },
      "outputs": [
        {
          "output_type": "stream",
          "name": "stderr",
          "text": [
            "100%|██████████| 25000/25000 [37:37<00:00, 11.07it/s]\n"
          ]
        }
      ],
      "source": [
        "predicted = prediction(quiz_data)\n",
        "predicted = drop_tag(predicted)"
      ]
    },
    {
      "cell_type": "code",
      "execution_count": null,
      "metadata": {
        "colab": {
          "base_uri": "https://localhost:8080/",
          "height": 237
        },
        "id": "93xpqJBo84O8",
        "outputId": "667da742-1ecf-462d-8b14-ffc2d4aa5517"
      },
      "outputs": [
        {
          "output_type": "execute_result",
          "data": {
            "text/plain": [
              "              Aspect Name Aspect Value\n",
              "Record number                         \n",
              "5001                Brand            !\n",
              "5001                Brand        Rider\n",
              "5001                Model         Gaim\n",
              "5002                Brand         HOBO\n",
              "5002              Accents           's"
            ],
            "text/html": [
              "\n",
              "  <div id=\"df-f220646f-3a71-4bcd-8dcb-07783194f787\">\n",
              "    <div class=\"colab-df-container\">\n",
              "      <div>\n",
              "<style scoped>\n",
              "    .dataframe tbody tr th:only-of-type {\n",
              "        vertical-align: middle;\n",
              "    }\n",
              "\n",
              "    .dataframe tbody tr th {\n",
              "        vertical-align: top;\n",
              "    }\n",
              "\n",
              "    .dataframe thead th {\n",
              "        text-align: right;\n",
              "    }\n",
              "</style>\n",
              "<table border=\"1\" class=\"dataframe\">\n",
              "  <thead>\n",
              "    <tr style=\"text-align: right;\">\n",
              "      <th></th>\n",
              "      <th>Aspect Name</th>\n",
              "      <th>Aspect Value</th>\n",
              "    </tr>\n",
              "    <tr>\n",
              "      <th>Record number</th>\n",
              "      <th></th>\n",
              "      <th></th>\n",
              "    </tr>\n",
              "  </thead>\n",
              "  <tbody>\n",
              "    <tr>\n",
              "      <th>5001</th>\n",
              "      <td>Brand</td>\n",
              "      <td>!</td>\n",
              "    </tr>\n",
              "    <tr>\n",
              "      <th>5001</th>\n",
              "      <td>Brand</td>\n",
              "      <td>Rider</td>\n",
              "    </tr>\n",
              "    <tr>\n",
              "      <th>5001</th>\n",
              "      <td>Model</td>\n",
              "      <td>Gaim</td>\n",
              "    </tr>\n",
              "    <tr>\n",
              "      <th>5002</th>\n",
              "      <td>Brand</td>\n",
              "      <td>HOBO</td>\n",
              "    </tr>\n",
              "    <tr>\n",
              "      <th>5002</th>\n",
              "      <td>Accents</td>\n",
              "      <td>'s</td>\n",
              "    </tr>\n",
              "  </tbody>\n",
              "</table>\n",
              "</div>\n",
              "      <button class=\"colab-df-convert\" onclick=\"convertToInteractive('df-f220646f-3a71-4bcd-8dcb-07783194f787')\"\n",
              "              title=\"Convert this dataframe to an interactive table.\"\n",
              "              style=\"display:none;\">\n",
              "        \n",
              "  <svg xmlns=\"http://www.w3.org/2000/svg\" height=\"24px\"viewBox=\"0 0 24 24\"\n",
              "       width=\"24px\">\n",
              "    <path d=\"M0 0h24v24H0V0z\" fill=\"none\"/>\n",
              "    <path d=\"M18.56 5.44l.94 2.06.94-2.06 2.06-.94-2.06-.94-.94-2.06-.94 2.06-2.06.94zm-11 1L8.5 8.5l.94-2.06 2.06-.94-2.06-.94L8.5 2.5l-.94 2.06-2.06.94zm10 10l.94 2.06.94-2.06 2.06-.94-2.06-.94-.94-2.06-.94 2.06-2.06.94z\"/><path d=\"M17.41 7.96l-1.37-1.37c-.4-.4-.92-.59-1.43-.59-.52 0-1.04.2-1.43.59L10.3 9.45l-7.72 7.72c-.78.78-.78 2.05 0 2.83L4 21.41c.39.39.9.59 1.41.59.51 0 1.02-.2 1.41-.59l7.78-7.78 2.81-2.81c.8-.78.8-2.07 0-2.86zM5.41 20L4 18.59l7.72-7.72 1.47 1.35L5.41 20z\"/>\n",
              "  </svg>\n",
              "      </button>\n",
              "      \n",
              "  <style>\n",
              "    .colab-df-container {\n",
              "      display:flex;\n",
              "      flex-wrap:wrap;\n",
              "      gap: 12px;\n",
              "    }\n",
              "\n",
              "    .colab-df-convert {\n",
              "      background-color: #E8F0FE;\n",
              "      border: none;\n",
              "      border-radius: 50%;\n",
              "      cursor: pointer;\n",
              "      display: none;\n",
              "      fill: #1967D2;\n",
              "      height: 32px;\n",
              "      padding: 0 0 0 0;\n",
              "      width: 32px;\n",
              "    }\n",
              "\n",
              "    .colab-df-convert:hover {\n",
              "      background-color: #E2EBFA;\n",
              "      box-shadow: 0px 1px 2px rgba(60, 64, 67, 0.3), 0px 1px 3px 1px rgba(60, 64, 67, 0.15);\n",
              "      fill: #174EA6;\n",
              "    }\n",
              "\n",
              "    [theme=dark] .colab-df-convert {\n",
              "      background-color: #3B4455;\n",
              "      fill: #D2E3FC;\n",
              "    }\n",
              "\n",
              "    [theme=dark] .colab-df-convert:hover {\n",
              "      background-color: #434B5C;\n",
              "      box-shadow: 0px 1px 3px 1px rgba(0, 0, 0, 0.15);\n",
              "      filter: drop-shadow(0px 1px 2px rgba(0, 0, 0, 0.3));\n",
              "      fill: #FFFFFF;\n",
              "    }\n",
              "  </style>\n",
              "\n",
              "      <script>\n",
              "        const buttonEl =\n",
              "          document.querySelector('#df-f220646f-3a71-4bcd-8dcb-07783194f787 button.colab-df-convert');\n",
              "        buttonEl.style.display =\n",
              "          google.colab.kernel.accessAllowed ? 'block' : 'none';\n",
              "\n",
              "        async function convertToInteractive(key) {\n",
              "          const element = document.querySelector('#df-f220646f-3a71-4bcd-8dcb-07783194f787');\n",
              "          const dataTable =\n",
              "            await google.colab.kernel.invokeFunction('convertToInteractive',\n",
              "                                                     [key], {});\n",
              "          if (!dataTable) return;\n",
              "\n",
              "          const docLinkHtml = 'Like what you see? Visit the ' +\n",
              "            '<a target=\"_blank\" href=https://colab.research.google.com/notebooks/data_table.ipynb>data table notebook</a>'\n",
              "            + ' to learn more about interactive tables.';\n",
              "          element.innerHTML = '';\n",
              "          dataTable['output_type'] = 'display_data';\n",
              "          await google.colab.output.renderOutput(dataTable, element);\n",
              "          const docLink = document.createElement('div');\n",
              "          docLink.innerHTML = docLinkHtml;\n",
              "          element.appendChild(docLink);\n",
              "        }\n",
              "      </script>\n",
              "    </div>\n",
              "  </div>\n",
              "  "
            ]
          },
          "metadata": {},
          "execution_count": 35
        }
      ],
      "source": [
        "predicted.head()"
      ]
    },
    {
      "cell_type": "code",
      "execution_count": null,
      "metadata": {
        "id": "LLsrkDIVS0na"
      },
      "outputs": [],
      "source": [
        "predicted.to_csv('/content/drive/MyDrive/eBay_ML_Challenge_Dataset_2022/quiz4.tsv', header=None, sep=\"\\t\")"
      ]
    },
    {
      "cell_type": "code",
      "source": [
        "quiz_data.head()"
      ],
      "metadata": {
        "colab": {
          "base_uri": "https://localhost:8080/",
          "height": 214
        },
        "id": "siqsgXSFKJHJ",
        "outputId": "b810f6c4-ba53-41b5-ffc5-d74549127d0f"
      },
      "execution_count": null,
      "outputs": [
        {
          "output_type": "execute_result",
          "data": {
            "text/plain": [
              "      Record Number                                              Title\n",
              "5000           5001           SALE ! Kamen Rider Gaim Belt Set No. 802\n",
              "5001           5002  HOBO INTERNATIONAL Women 's VINTAGE LEATHER Sh...\n",
              "5002           5003  Coach Peyton Brown and Tan Signature C Shoulde...\n",
              "5003           5004     MZ WALLACE Metro tote gray quilted nylon purse\n",
              "5004           5005  Women Fashion Sequins Backpack Travel PU Handb..."
            ],
            "text/html": [
              "\n",
              "  <div id=\"df-f90e02c8-63d4-491f-9a9d-79aba58a77b3\">\n",
              "    <div class=\"colab-df-container\">\n",
              "      <div>\n",
              "<style scoped>\n",
              "    .dataframe tbody tr th:only-of-type {\n",
              "        vertical-align: middle;\n",
              "    }\n",
              "\n",
              "    .dataframe tbody tr th {\n",
              "        vertical-align: top;\n",
              "    }\n",
              "\n",
              "    .dataframe thead th {\n",
              "        text-align: right;\n",
              "    }\n",
              "</style>\n",
              "<table border=\"1\" class=\"dataframe\">\n",
              "  <thead>\n",
              "    <tr style=\"text-align: right;\">\n",
              "      <th></th>\n",
              "      <th>Record Number</th>\n",
              "      <th>Title</th>\n",
              "    </tr>\n",
              "  </thead>\n",
              "  <tbody>\n",
              "    <tr>\n",
              "      <th>5000</th>\n",
              "      <td>5001</td>\n",
              "      <td>SALE ! Kamen Rider Gaim Belt Set No. 802</td>\n",
              "    </tr>\n",
              "    <tr>\n",
              "      <th>5001</th>\n",
              "      <td>5002</td>\n",
              "      <td>HOBO INTERNATIONAL Women 's VINTAGE LEATHER Sh...</td>\n",
              "    </tr>\n",
              "    <tr>\n",
              "      <th>5002</th>\n",
              "      <td>5003</td>\n",
              "      <td>Coach Peyton Brown and Tan Signature C Shoulde...</td>\n",
              "    </tr>\n",
              "    <tr>\n",
              "      <th>5003</th>\n",
              "      <td>5004</td>\n",
              "      <td>MZ WALLACE Metro tote gray quilted nylon purse</td>\n",
              "    </tr>\n",
              "    <tr>\n",
              "      <th>5004</th>\n",
              "      <td>5005</td>\n",
              "      <td>Women Fashion Sequins Backpack Travel PU Handb...</td>\n",
              "    </tr>\n",
              "  </tbody>\n",
              "</table>\n",
              "</div>\n",
              "      <button class=\"colab-df-convert\" onclick=\"convertToInteractive('df-f90e02c8-63d4-491f-9a9d-79aba58a77b3')\"\n",
              "              title=\"Convert this dataframe to an interactive table.\"\n",
              "              style=\"display:none;\">\n",
              "        \n",
              "  <svg xmlns=\"http://www.w3.org/2000/svg\" height=\"24px\"viewBox=\"0 0 24 24\"\n",
              "       width=\"24px\">\n",
              "    <path d=\"M0 0h24v24H0V0z\" fill=\"none\"/>\n",
              "    <path d=\"M18.56 5.44l.94 2.06.94-2.06 2.06-.94-2.06-.94-.94-2.06-.94 2.06-2.06.94zm-11 1L8.5 8.5l.94-2.06 2.06-.94-2.06-.94L8.5 2.5l-.94 2.06-2.06.94zm10 10l.94 2.06.94-2.06 2.06-.94-2.06-.94-.94-2.06-.94 2.06-2.06.94z\"/><path d=\"M17.41 7.96l-1.37-1.37c-.4-.4-.92-.59-1.43-.59-.52 0-1.04.2-1.43.59L10.3 9.45l-7.72 7.72c-.78.78-.78 2.05 0 2.83L4 21.41c.39.39.9.59 1.41.59.51 0 1.02-.2 1.41-.59l7.78-7.78 2.81-2.81c.8-.78.8-2.07 0-2.86zM5.41 20L4 18.59l7.72-7.72 1.47 1.35L5.41 20z\"/>\n",
              "  </svg>\n",
              "      </button>\n",
              "      \n",
              "  <style>\n",
              "    .colab-df-container {\n",
              "      display:flex;\n",
              "      flex-wrap:wrap;\n",
              "      gap: 12px;\n",
              "    }\n",
              "\n",
              "    .colab-df-convert {\n",
              "      background-color: #E8F0FE;\n",
              "      border: none;\n",
              "      border-radius: 50%;\n",
              "      cursor: pointer;\n",
              "      display: none;\n",
              "      fill: #1967D2;\n",
              "      height: 32px;\n",
              "      padding: 0 0 0 0;\n",
              "      width: 32px;\n",
              "    }\n",
              "\n",
              "    .colab-df-convert:hover {\n",
              "      background-color: #E2EBFA;\n",
              "      box-shadow: 0px 1px 2px rgba(60, 64, 67, 0.3), 0px 1px 3px 1px rgba(60, 64, 67, 0.15);\n",
              "      fill: #174EA6;\n",
              "    }\n",
              "\n",
              "    [theme=dark] .colab-df-convert {\n",
              "      background-color: #3B4455;\n",
              "      fill: #D2E3FC;\n",
              "    }\n",
              "\n",
              "    [theme=dark] .colab-df-convert:hover {\n",
              "      background-color: #434B5C;\n",
              "      box-shadow: 0px 1px 3px 1px rgba(0, 0, 0, 0.15);\n",
              "      filter: drop-shadow(0px 1px 2px rgba(0, 0, 0, 0.3));\n",
              "      fill: #FFFFFF;\n",
              "    }\n",
              "  </style>\n",
              "\n",
              "      <script>\n",
              "        const buttonEl =\n",
              "          document.querySelector('#df-f90e02c8-63d4-491f-9a9d-79aba58a77b3 button.colab-df-convert');\n",
              "        buttonEl.style.display =\n",
              "          google.colab.kernel.accessAllowed ? 'block' : 'none';\n",
              "\n",
              "        async function convertToInteractive(key) {\n",
              "          const element = document.querySelector('#df-f90e02c8-63d4-491f-9a9d-79aba58a77b3');\n",
              "          const dataTable =\n",
              "            await google.colab.kernel.invokeFunction('convertToInteractive',\n",
              "                                                     [key], {});\n",
              "          if (!dataTable) return;\n",
              "\n",
              "          const docLinkHtml = 'Like what you see? Visit the ' +\n",
              "            '<a target=\"_blank\" href=https://colab.research.google.com/notebooks/data_table.ipynb>data table notebook</a>'\n",
              "            + ' to learn more about interactive tables.';\n",
              "          element.innerHTML = '';\n",
              "          dataTable['output_type'] = 'display_data';\n",
              "          await google.colab.output.renderOutput(dataTable, element);\n",
              "          const docLink = document.createElement('div');\n",
              "          docLink.innerHTML = docLinkHtml;\n",
              "          element.appendChild(docLink);\n",
              "        }\n",
              "      </script>\n",
              "    </div>\n",
              "  </div>\n",
              "  "
            ]
          },
          "metadata": {},
          "execution_count": 45
        }
      ]
    },
    {
      "cell_type": "code",
      "execution_count": null,
      "metadata": {
        "id": "8e3YbFO-nWeh"
      },
      "outputs": [],
      "source": [
        "#label.columns = [\"Record Number\",\"Aspect Name\",\"Aspect Value\"]"
      ]
    }
  ],
  "metadata": {
    "colab": {
      "collapsed_sections": [],
      "machine_shape": "hm",
      "provenance": [],
      "authorship_tag": "ABX9TyMY3vB6ypxG3YCAHFUZIAnq",
      "include_colab_link": true
    },
    "gpuClass": "standard",
    "kernelspec": {
      "display_name": "Python 3",
      "name": "python3"
    },
    "language_info": {
      "name": "python"
    }
  },
  "nbformat": 4,
  "nbformat_minor": 0
}