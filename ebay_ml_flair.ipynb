{
  "nbformat": 4,
  "nbformat_minor": 0,
  "metadata": {
    "colab": {
      "provenance": [],
      "machine_shape": "hm",
      "mount_file_id": "1kXraBHbOK1GIDYDOafcP16RisHfxk6FC",
      "authorship_tag": "ABX9TyPH0n8uKUwmhDlD0VtUQr14",
      "include_colab_link": true
    },
    "kernelspec": {
      "name": "python3",
      "display_name": "Python 3"
    },
    "language_info": {
      "name": "python"
    },
    "gpuClass": "standard"
  },
  "cells": [
    {
      "cell_type": "markdown",
      "metadata": {
        "id": "view-in-github",
        "colab_type": "text"
      },
      "source": [
        "<a href=\"https://colab.research.google.com/github/kevin866/ml_nlp_ebaycomp/blob/flair/ebay_ml_flair.ipynb\" target=\"_parent\"><img src=\"https://colab.research.google.com/assets/colab-badge.svg\" alt=\"Open In Colab\"/></a>"
      ]
    },
    {
      "cell_type": "code",
      "execution_count": null,
      "metadata": {
        "colab": {
          "base_uri": "https://localhost:8080/"
        },
        "id": "LvdMSMUTPmL7",
        "outputId": "14448a16-de1f-459e-af4f-bf858d0a12ae"
      },
      "outputs": [
        {
          "output_type": "stream",
          "name": "stdout",
          "text": [
            "Drive already mounted at /content/drive; to attempt to forcibly remount, call drive.mount(\"/content/drive\", force_remount=True).\n"
          ]
        }
      ],
      "source": [
        "from google.colab import drive\n",
        "drive.mount('/content/drive')\n",
        "dic = {'Country/Region of Manufacture':'CRManufacutre','Handle/Strap Material':'HSMaterial', 'Fabric Type':'FabricT','No Tag':'NoT', 'Product Line':'ProductL', 'Handle Style':'HandleS', 'Hardware Material':'HardwareM', \n",
        "        'Trim Material':'TrimM', 'Measurement, dimension':'Measurementd', 'Pocket Type':'PocketT', 'Character Family':'CharacterF', 'Lining Material':'LiningM', 'Strap Drop':'StrapD', 'Handle Drop':'HandleD'}\n",
        "ori=list(dic.keys())\n",
        "rep = list(dic.values())"
      ]
    },
    {
      "cell_type": "code",
      "source": [
        "!pip install flair"
      ],
      "metadata": {
        "id": "TUZDQd5_P09f"
      },
      "execution_count": null,
      "outputs": []
    },
    {
      "cell_type": "code",
      "source": [
        "import pandas as pd\n",
        "import numpy as np"
      ],
      "metadata": {
        "id": "znMJY7fBQKbL"
      },
      "execution_count": null,
      "outputs": []
    },
    {
      "cell_type": "code",
      "source": [
        "df1 = pd.read_csv('/content/drive/MyDrive/eBay_ML_Challenge_Dataset_2022/train_merged_entities.tsv', sep = '\\t',index_col=False)"
      ],
      "metadata": {
        "id": "Ag1zVMZvUEJG"
      },
      "execution_count": null,
      "outputs": []
    },
    {
      "cell_type": "code",
      "source": [
        "dic = {'Country/Region of Manufacture':'CRManufacutre','Handle/Strap Material':'HSMaterial', 'Fabric Type':'FabricT','No Tag':'NoT', 'Product Line':'ProductL', 'Handle Style':'HandleS', 'Hardware Material':'HardwareM', \n",
        "        'Trim Material':'TrimM', 'Measurement, dimension':'Measurementd', 'Pocket Type':'PocketT', 'Character Family':'CharacterF', 'Lining Material':'LiningM', 'Strap Drop':'StrapD', 'Handle Drop':'HandleD'}"
      ],
      "metadata": {
        "id": "Do5u1XDXe75f"
      },
      "execution_count": null,
      "outputs": []
    },
    {
      "cell_type": "code",
      "source": [
        "ori=list(dic.keys())\n",
        "rep = list(dic.values())"
      ],
      "metadata": {
        "id": "zNTHqrBeeq_x"
      },
      "execution_count": null,
      "outputs": []
    },
    {
      "cell_type": "code",
      "source": [
        "print(ori)\n",
        "print(rep)"
      ],
      "metadata": {
        "colab": {
          "base_uri": "https://localhost:8080/"
        },
        "id": "va6S5UQJeyl7",
        "outputId": "b27f848f-484e-4cec-d879-dfafd23cf13d"
      },
      "execution_count": null,
      "outputs": [
        {
          "output_type": "stream",
          "name": "stdout",
          "text": [
            "['Country/Region of Manufacture', 'Handle/Strap Material', 'Fabric Type', 'No Tag', 'Product Line', 'Handle Style', 'Hardware Material', 'Trim Material', 'Measurement, dimension', 'Pocket Type', 'Character Family', 'Lining Material', 'Strap Drop', 'Handle Drop']\n",
            "['CRManufacutre', 'HSMaterial', 'FabricT', 'NoT', 'ProductL', 'HandleS', 'HardwareM', 'TrimM', 'Measurementd', 'PocketT', 'CharacterF', 'LiningM', 'StrapD', 'HandleD']\n"
          ]
        }
      ]
    },
    {
      "cell_type": "code",
      "source": [
        "df1['Tag'] = df1['Tag'].replace(ori,rep)\n"
      ],
      "metadata": {
        "id": "_W44DZ_belAD"
      },
      "execution_count": null,
      "outputs": []
    },
    {
      "cell_type": "code",
      "source": [
        "df1.head(10)"
      ],
      "metadata": {
        "colab": {
          "base_uri": "https://localhost:8080/",
          "height": 363
        },
        "id": "73526sTofcoV",
        "outputId": "6a3c7a68-ecf7-4c97-ed4a-afd25f97f351"
      },
      "execution_count": null,
      "outputs": [
        {
          "output_type": "execute_result",
          "data": {
            "text/plain": [
              "   Record Number                                              Title  \\\n",
              "0              1  LOUIS VUITTON M40096 Handbag Priscilla Multi-c...   \n",
              "1              1  LOUIS VUITTON M40096 Handbag Priscilla Multi-c...   \n",
              "2              1  LOUIS VUITTON M40096 Handbag Priscilla Multi-c...   \n",
              "3              1  LOUIS VUITTON M40096 Handbag Priscilla Multi-c...   \n",
              "4              1  LOUIS VUITTON M40096 Handbag Priscilla Multi-c...   \n",
              "5              1  LOUIS VUITTON M40096 Handbag Priscilla Multi-c...   \n",
              "6              1  LOUIS VUITTON M40096 Handbag Priscilla Multi-c...   \n",
              "7              1  LOUIS VUITTON M40096 Handbag Priscilla Multi-c...   \n",
              "8              2  LOUIS VUITTON Petit Noe Drawstring Shoulder Ba...   \n",
              "9              2  LOUIS VUITTON Petit Noe Drawstring Shoulder Ba...   \n",
              "\n",
              "           Token      Tag  \n",
              "0  LOUIS VUITTON    Brand  \n",
              "1         M40096      MPN  \n",
              "2        Handbag     Type  \n",
              "3      Priscilla    Model  \n",
              "4    Multi-color    Color  \n",
              "5         canvas  FabricT  \n",
              "6    Multi-color    Color  \n",
              "7         canvas  FabricT  \n",
              "8  LOUIS VUITTON    Brand  \n",
              "9      Petit Noe    Model  "
            ],
            "text/html": [
              "\n",
              "  <div id=\"df-8cf72a98-3e20-4f91-81b6-3e37696c30b2\">\n",
              "    <div class=\"colab-df-container\">\n",
              "      <div>\n",
              "<style scoped>\n",
              "    .dataframe tbody tr th:only-of-type {\n",
              "        vertical-align: middle;\n",
              "    }\n",
              "\n",
              "    .dataframe tbody tr th {\n",
              "        vertical-align: top;\n",
              "    }\n",
              "\n",
              "    .dataframe thead th {\n",
              "        text-align: right;\n",
              "    }\n",
              "</style>\n",
              "<table border=\"1\" class=\"dataframe\">\n",
              "  <thead>\n",
              "    <tr style=\"text-align: right;\">\n",
              "      <th></th>\n",
              "      <th>Record Number</th>\n",
              "      <th>Title</th>\n",
              "      <th>Token</th>\n",
              "      <th>Tag</th>\n",
              "    </tr>\n",
              "  </thead>\n",
              "  <tbody>\n",
              "    <tr>\n",
              "      <th>0</th>\n",
              "      <td>1</td>\n",
              "      <td>LOUIS VUITTON M40096 Handbag Priscilla Multi-c...</td>\n",
              "      <td>LOUIS VUITTON</td>\n",
              "      <td>Brand</td>\n",
              "    </tr>\n",
              "    <tr>\n",
              "      <th>1</th>\n",
              "      <td>1</td>\n",
              "      <td>LOUIS VUITTON M40096 Handbag Priscilla Multi-c...</td>\n",
              "      <td>M40096</td>\n",
              "      <td>MPN</td>\n",
              "    </tr>\n",
              "    <tr>\n",
              "      <th>2</th>\n",
              "      <td>1</td>\n",
              "      <td>LOUIS VUITTON M40096 Handbag Priscilla Multi-c...</td>\n",
              "      <td>Handbag</td>\n",
              "      <td>Type</td>\n",
              "    </tr>\n",
              "    <tr>\n",
              "      <th>3</th>\n",
              "      <td>1</td>\n",
              "      <td>LOUIS VUITTON M40096 Handbag Priscilla Multi-c...</td>\n",
              "      <td>Priscilla</td>\n",
              "      <td>Model</td>\n",
              "    </tr>\n",
              "    <tr>\n",
              "      <th>4</th>\n",
              "      <td>1</td>\n",
              "      <td>LOUIS VUITTON M40096 Handbag Priscilla Multi-c...</td>\n",
              "      <td>Multi-color</td>\n",
              "      <td>Color</td>\n",
              "    </tr>\n",
              "    <tr>\n",
              "      <th>5</th>\n",
              "      <td>1</td>\n",
              "      <td>LOUIS VUITTON M40096 Handbag Priscilla Multi-c...</td>\n",
              "      <td>canvas</td>\n",
              "      <td>FabricT</td>\n",
              "    </tr>\n",
              "    <tr>\n",
              "      <th>6</th>\n",
              "      <td>1</td>\n",
              "      <td>LOUIS VUITTON M40096 Handbag Priscilla Multi-c...</td>\n",
              "      <td>Multi-color</td>\n",
              "      <td>Color</td>\n",
              "    </tr>\n",
              "    <tr>\n",
              "      <th>7</th>\n",
              "      <td>1</td>\n",
              "      <td>LOUIS VUITTON M40096 Handbag Priscilla Multi-c...</td>\n",
              "      <td>canvas</td>\n",
              "      <td>FabricT</td>\n",
              "    </tr>\n",
              "    <tr>\n",
              "      <th>8</th>\n",
              "      <td>2</td>\n",
              "      <td>LOUIS VUITTON Petit Noe Drawstring Shoulder Ba...</td>\n",
              "      <td>LOUIS VUITTON</td>\n",
              "      <td>Brand</td>\n",
              "    </tr>\n",
              "    <tr>\n",
              "      <th>9</th>\n",
              "      <td>2</td>\n",
              "      <td>LOUIS VUITTON Petit Noe Drawstring Shoulder Ba...</td>\n",
              "      <td>Petit Noe</td>\n",
              "      <td>Model</td>\n",
              "    </tr>\n",
              "  </tbody>\n",
              "</table>\n",
              "</div>\n",
              "      <button class=\"colab-df-convert\" onclick=\"convertToInteractive('df-8cf72a98-3e20-4f91-81b6-3e37696c30b2')\"\n",
              "              title=\"Convert this dataframe to an interactive table.\"\n",
              "              style=\"display:none;\">\n",
              "        \n",
              "  <svg xmlns=\"http://www.w3.org/2000/svg\" height=\"24px\"viewBox=\"0 0 24 24\"\n",
              "       width=\"24px\">\n",
              "    <path d=\"M0 0h24v24H0V0z\" fill=\"none\"/>\n",
              "    <path d=\"M18.56 5.44l.94 2.06.94-2.06 2.06-.94-2.06-.94-.94-2.06-.94 2.06-2.06.94zm-11 1L8.5 8.5l.94-2.06 2.06-.94-2.06-.94L8.5 2.5l-.94 2.06-2.06.94zm10 10l.94 2.06.94-2.06 2.06-.94-2.06-.94-.94-2.06-.94 2.06-2.06.94z\"/><path d=\"M17.41 7.96l-1.37-1.37c-.4-.4-.92-.59-1.43-.59-.52 0-1.04.2-1.43.59L10.3 9.45l-7.72 7.72c-.78.78-.78 2.05 0 2.83L4 21.41c.39.39.9.59 1.41.59.51 0 1.02-.2 1.41-.59l7.78-7.78 2.81-2.81c.8-.78.8-2.07 0-2.86zM5.41 20L4 18.59l7.72-7.72 1.47 1.35L5.41 20z\"/>\n",
              "  </svg>\n",
              "      </button>\n",
              "      \n",
              "  <style>\n",
              "    .colab-df-container {\n",
              "      display:flex;\n",
              "      flex-wrap:wrap;\n",
              "      gap: 12px;\n",
              "    }\n",
              "\n",
              "    .colab-df-convert {\n",
              "      background-color: #E8F0FE;\n",
              "      border: none;\n",
              "      border-radius: 50%;\n",
              "      cursor: pointer;\n",
              "      display: none;\n",
              "      fill: #1967D2;\n",
              "      height: 32px;\n",
              "      padding: 0 0 0 0;\n",
              "      width: 32px;\n",
              "    }\n",
              "\n",
              "    .colab-df-convert:hover {\n",
              "      background-color: #E2EBFA;\n",
              "      box-shadow: 0px 1px 2px rgba(60, 64, 67, 0.3), 0px 1px 3px 1px rgba(60, 64, 67, 0.15);\n",
              "      fill: #174EA6;\n",
              "    }\n",
              "\n",
              "    [theme=dark] .colab-df-convert {\n",
              "      background-color: #3B4455;\n",
              "      fill: #D2E3FC;\n",
              "    }\n",
              "\n",
              "    [theme=dark] .colab-df-convert:hover {\n",
              "      background-color: #434B5C;\n",
              "      box-shadow: 0px 1px 3px 1px rgba(0, 0, 0, 0.15);\n",
              "      filter: drop-shadow(0px 1px 2px rgba(0, 0, 0, 0.3));\n",
              "      fill: #FFFFFF;\n",
              "    }\n",
              "  </style>\n",
              "\n",
              "      <script>\n",
              "        const buttonEl =\n",
              "          document.querySelector('#df-8cf72a98-3e20-4f91-81b6-3e37696c30b2 button.colab-df-convert');\n",
              "        buttonEl.style.display =\n",
              "          google.colab.kernel.accessAllowed ? 'block' : 'none';\n",
              "\n",
              "        async function convertToInteractive(key) {\n",
              "          const element = document.querySelector('#df-8cf72a98-3e20-4f91-81b6-3e37696c30b2');\n",
              "          const dataTable =\n",
              "            await google.colab.kernel.invokeFunction('convertToInteractive',\n",
              "                                                     [key], {});\n",
              "          if (!dataTable) return;\n",
              "\n",
              "          const docLinkHtml = 'Like what you see? Visit the ' +\n",
              "            '<a target=\"_blank\" href=https://colab.research.google.com/notebooks/data_table.ipynb>data table notebook</a>'\n",
              "            + ' to learn more about interactive tables.';\n",
              "          element.innerHTML = '';\n",
              "          dataTable['output_type'] = 'display_data';\n",
              "          await google.colab.output.renderOutput(dataTable, element);\n",
              "          const docLink = document.createElement('div');\n",
              "          docLink.innerHTML = docLinkHtml;\n",
              "          element.appendChild(docLink);\n",
              "        }\n",
              "      </script>\n",
              "    </div>\n",
              "  </div>\n",
              "  "
            ]
          },
          "metadata": {},
          "execution_count": 8
        }
      ]
    },
    {
      "cell_type": "code",
      "source": [
        "tags = pd.DataFrame(df1['Tag'].unique()).dropna()\n",
        "tags = np.ravel(np.array(tags).tolist())"
      ],
      "metadata": {
        "id": "xQ3XRvjWaZA8"
      },
      "execution_count": null,
      "outputs": []
    },
    {
      "cell_type": "code",
      "source": [
        "print(len(tags))\n",
        "tags"
      ],
      "metadata": {
        "colab": {
          "base_uri": "https://localhost:8080/"
        },
        "id": "UNK0eJOgai8N",
        "outputId": "67fb3568-a702-4998-a201-ed2031b8556b"
      },
      "execution_count": null,
      "outputs": [
        {
          "output_type": "stream",
          "name": "stdout",
          "text": [
            "32\n"
          ]
        },
        {
          "output_type": "execute_result",
          "data": {
            "text/plain": [
              "array(['Brand', 'MPN', 'Type', 'Model', 'Color', 'FabricT', 'Closure',\n",
              "       'Pattern', 'Material', 'NoT', 'ProductL', 'Features', 'Theme',\n",
              "       'CRManufacutre', 'Occasion', 'Department', 'Size', 'HSMaterial',\n",
              "       'HandleS', 'Accents', 'Style', 'HardwareM', 'TrimM',\n",
              "       'Measurementd', 'PocketT', 'Character', 'Obscure', 'Season',\n",
              "       'CharacterF', 'LiningM', 'StrapD', 'HandleD'], dtype='<U13')"
            ]
          },
          "metadata": {},
          "execution_count": 11
        }
      ]
    },
    {
      "cell_type": "code",
      "source": [
        "df1.tail(20)"
      ],
      "metadata": {
        "colab": {
          "base_uri": "https://localhost:8080/",
          "height": 677
        },
        "id": "LGiY_h01UIJt",
        "outputId": "60ec7190-e5dc-47b4-829a-d1cb84932bf3"
      },
      "execution_count": null,
      "outputs": [
        {
          "output_type": "execute_result",
          "data": {
            "text/plain": [
              "       Record Number                                              Title  \\\n",
              "48180           4999  gucci crossbody bags handbags Mini Mermot Red ...   \n",
              "48181           4999  gucci crossbody bags handbags Mini Mermot Red ...   \n",
              "48182           4999  gucci crossbody bags handbags Mini Mermot Red ...   \n",
              "48183           4999  gucci crossbody bags handbags Mini Mermot Red ...   \n",
              "48184           4999  gucci crossbody bags handbags Mini Mermot Red ...   \n",
              "48185           4999  gucci crossbody bags handbags Mini Mermot Red ...   \n",
              "48186           4999  gucci crossbody bags handbags Mini Mermot Red ...   \n",
              "48187           5000  Botkier Sasha Medium Duffel Bag Coral Leather ...   \n",
              "48188           5000  Botkier Sasha Medium Duffel Bag Coral Leather ...   \n",
              "48189           5000  Botkier Sasha Medium Duffel Bag Coral Leather ...   \n",
              "48190           5000  Botkier Sasha Medium Duffel Bag Coral Leather ...   \n",
              "48191           5000  Botkier Sasha Medium Duffel Bag Coral Leather ...   \n",
              "48192           5000  Botkier Sasha Medium Duffel Bag Coral Leather ...   \n",
              "48193           5000  Botkier Sasha Medium Duffel Bag Coral Leather ...   \n",
              "48194           5000  Botkier Sasha Medium Duffel Bag Coral Leather ...   \n",
              "48195           5000  Botkier Sasha Medium Duffel Bag Coral Leather ...   \n",
              "48196           5000  Botkier Sasha Medium Duffel Bag Coral Leather ...   \n",
              "48197           5000  Botkier Sasha Medium Duffel Bag Coral Leather ...   \n",
              "48198           5000  Botkier Sasha Medium Duffel Bag Coral Leather ...   \n",
              "48199           5000  Botkier Sasha Medium Duffel Bag Coral Leather ...   \n",
              "\n",
              "           Token       Tag  \n",
              "48180  crossbody      Type  \n",
              "48181       bags      Type  \n",
              "48182   handbags      Type  \n",
              "48183       Mini      Size  \n",
              "48184     Mermot     Model  \n",
              "48185        Red     Color  \n",
              "48186  Authentic       NoT  \n",
              "48187    Botkier     Brand  \n",
              "48188      Sasha     Model  \n",
              "48189     Medium      Size  \n",
              "48190     Duffel      Type  \n",
              "48191        Bag      Type  \n",
              "48192      Coral     Color  \n",
              "48193    Leather  Material  \n",
              "48194        Zip   Closure  \n",
              "48195        Top       NoT  \n",
              "48196    Closure       NoT  \n",
              "48197     Retail       NoT  \n",
              "48198          $       NoT  \n",
              "48199        595       NoT  "
            ],
            "text/html": [
              "\n",
              "  <div id=\"df-1e821eee-f37c-4ec8-9005-08d8f8283070\">\n",
              "    <div class=\"colab-df-container\">\n",
              "      <div>\n",
              "<style scoped>\n",
              "    .dataframe tbody tr th:only-of-type {\n",
              "        vertical-align: middle;\n",
              "    }\n",
              "\n",
              "    .dataframe tbody tr th {\n",
              "        vertical-align: top;\n",
              "    }\n",
              "\n",
              "    .dataframe thead th {\n",
              "        text-align: right;\n",
              "    }\n",
              "</style>\n",
              "<table border=\"1\" class=\"dataframe\">\n",
              "  <thead>\n",
              "    <tr style=\"text-align: right;\">\n",
              "      <th></th>\n",
              "      <th>Record Number</th>\n",
              "      <th>Title</th>\n",
              "      <th>Token</th>\n",
              "      <th>Tag</th>\n",
              "    </tr>\n",
              "  </thead>\n",
              "  <tbody>\n",
              "    <tr>\n",
              "      <th>48180</th>\n",
              "      <td>4999</td>\n",
              "      <td>gucci crossbody bags handbags Mini Mermot Red ...</td>\n",
              "      <td>crossbody</td>\n",
              "      <td>Type</td>\n",
              "    </tr>\n",
              "    <tr>\n",
              "      <th>48181</th>\n",
              "      <td>4999</td>\n",
              "      <td>gucci crossbody bags handbags Mini Mermot Red ...</td>\n",
              "      <td>bags</td>\n",
              "      <td>Type</td>\n",
              "    </tr>\n",
              "    <tr>\n",
              "      <th>48182</th>\n",
              "      <td>4999</td>\n",
              "      <td>gucci crossbody bags handbags Mini Mermot Red ...</td>\n",
              "      <td>handbags</td>\n",
              "      <td>Type</td>\n",
              "    </tr>\n",
              "    <tr>\n",
              "      <th>48183</th>\n",
              "      <td>4999</td>\n",
              "      <td>gucci crossbody bags handbags Mini Mermot Red ...</td>\n",
              "      <td>Mini</td>\n",
              "      <td>Size</td>\n",
              "    </tr>\n",
              "    <tr>\n",
              "      <th>48184</th>\n",
              "      <td>4999</td>\n",
              "      <td>gucci crossbody bags handbags Mini Mermot Red ...</td>\n",
              "      <td>Mermot</td>\n",
              "      <td>Model</td>\n",
              "    </tr>\n",
              "    <tr>\n",
              "      <th>48185</th>\n",
              "      <td>4999</td>\n",
              "      <td>gucci crossbody bags handbags Mini Mermot Red ...</td>\n",
              "      <td>Red</td>\n",
              "      <td>Color</td>\n",
              "    </tr>\n",
              "    <tr>\n",
              "      <th>48186</th>\n",
              "      <td>4999</td>\n",
              "      <td>gucci crossbody bags handbags Mini Mermot Red ...</td>\n",
              "      <td>Authentic</td>\n",
              "      <td>NoT</td>\n",
              "    </tr>\n",
              "    <tr>\n",
              "      <th>48187</th>\n",
              "      <td>5000</td>\n",
              "      <td>Botkier Sasha Medium Duffel Bag Coral Leather ...</td>\n",
              "      <td>Botkier</td>\n",
              "      <td>Brand</td>\n",
              "    </tr>\n",
              "    <tr>\n",
              "      <th>48188</th>\n",
              "      <td>5000</td>\n",
              "      <td>Botkier Sasha Medium Duffel Bag Coral Leather ...</td>\n",
              "      <td>Sasha</td>\n",
              "      <td>Model</td>\n",
              "    </tr>\n",
              "    <tr>\n",
              "      <th>48189</th>\n",
              "      <td>5000</td>\n",
              "      <td>Botkier Sasha Medium Duffel Bag Coral Leather ...</td>\n",
              "      <td>Medium</td>\n",
              "      <td>Size</td>\n",
              "    </tr>\n",
              "    <tr>\n",
              "      <th>48190</th>\n",
              "      <td>5000</td>\n",
              "      <td>Botkier Sasha Medium Duffel Bag Coral Leather ...</td>\n",
              "      <td>Duffel</td>\n",
              "      <td>Type</td>\n",
              "    </tr>\n",
              "    <tr>\n",
              "      <th>48191</th>\n",
              "      <td>5000</td>\n",
              "      <td>Botkier Sasha Medium Duffel Bag Coral Leather ...</td>\n",
              "      <td>Bag</td>\n",
              "      <td>Type</td>\n",
              "    </tr>\n",
              "    <tr>\n",
              "      <th>48192</th>\n",
              "      <td>5000</td>\n",
              "      <td>Botkier Sasha Medium Duffel Bag Coral Leather ...</td>\n",
              "      <td>Coral</td>\n",
              "      <td>Color</td>\n",
              "    </tr>\n",
              "    <tr>\n",
              "      <th>48193</th>\n",
              "      <td>5000</td>\n",
              "      <td>Botkier Sasha Medium Duffel Bag Coral Leather ...</td>\n",
              "      <td>Leather</td>\n",
              "      <td>Material</td>\n",
              "    </tr>\n",
              "    <tr>\n",
              "      <th>48194</th>\n",
              "      <td>5000</td>\n",
              "      <td>Botkier Sasha Medium Duffel Bag Coral Leather ...</td>\n",
              "      <td>Zip</td>\n",
              "      <td>Closure</td>\n",
              "    </tr>\n",
              "    <tr>\n",
              "      <th>48195</th>\n",
              "      <td>5000</td>\n",
              "      <td>Botkier Sasha Medium Duffel Bag Coral Leather ...</td>\n",
              "      <td>Top</td>\n",
              "      <td>NoT</td>\n",
              "    </tr>\n",
              "    <tr>\n",
              "      <th>48196</th>\n",
              "      <td>5000</td>\n",
              "      <td>Botkier Sasha Medium Duffel Bag Coral Leather ...</td>\n",
              "      <td>Closure</td>\n",
              "      <td>NoT</td>\n",
              "    </tr>\n",
              "    <tr>\n",
              "      <th>48197</th>\n",
              "      <td>5000</td>\n",
              "      <td>Botkier Sasha Medium Duffel Bag Coral Leather ...</td>\n",
              "      <td>Retail</td>\n",
              "      <td>NoT</td>\n",
              "    </tr>\n",
              "    <tr>\n",
              "      <th>48198</th>\n",
              "      <td>5000</td>\n",
              "      <td>Botkier Sasha Medium Duffel Bag Coral Leather ...</td>\n",
              "      <td>$</td>\n",
              "      <td>NoT</td>\n",
              "    </tr>\n",
              "    <tr>\n",
              "      <th>48199</th>\n",
              "      <td>5000</td>\n",
              "      <td>Botkier Sasha Medium Duffel Bag Coral Leather ...</td>\n",
              "      <td>595</td>\n",
              "      <td>NoT</td>\n",
              "    </tr>\n",
              "  </tbody>\n",
              "</table>\n",
              "</div>\n",
              "      <button class=\"colab-df-convert\" onclick=\"convertToInteractive('df-1e821eee-f37c-4ec8-9005-08d8f8283070')\"\n",
              "              title=\"Convert this dataframe to an interactive table.\"\n",
              "              style=\"display:none;\">\n",
              "        \n",
              "  <svg xmlns=\"http://www.w3.org/2000/svg\" height=\"24px\"viewBox=\"0 0 24 24\"\n",
              "       width=\"24px\">\n",
              "    <path d=\"M0 0h24v24H0V0z\" fill=\"none\"/>\n",
              "    <path d=\"M18.56 5.44l.94 2.06.94-2.06 2.06-.94-2.06-.94-.94-2.06-.94 2.06-2.06.94zm-11 1L8.5 8.5l.94-2.06 2.06-.94-2.06-.94L8.5 2.5l-.94 2.06-2.06.94zm10 10l.94 2.06.94-2.06 2.06-.94-2.06-.94-.94-2.06-.94 2.06-2.06.94z\"/><path d=\"M17.41 7.96l-1.37-1.37c-.4-.4-.92-.59-1.43-.59-.52 0-1.04.2-1.43.59L10.3 9.45l-7.72 7.72c-.78.78-.78 2.05 0 2.83L4 21.41c.39.39.9.59 1.41.59.51 0 1.02-.2 1.41-.59l7.78-7.78 2.81-2.81c.8-.78.8-2.07 0-2.86zM5.41 20L4 18.59l7.72-7.72 1.47 1.35L5.41 20z\"/>\n",
              "  </svg>\n",
              "      </button>\n",
              "      \n",
              "  <style>\n",
              "    .colab-df-container {\n",
              "      display:flex;\n",
              "      flex-wrap:wrap;\n",
              "      gap: 12px;\n",
              "    }\n",
              "\n",
              "    .colab-df-convert {\n",
              "      background-color: #E8F0FE;\n",
              "      border: none;\n",
              "      border-radius: 50%;\n",
              "      cursor: pointer;\n",
              "      display: none;\n",
              "      fill: #1967D2;\n",
              "      height: 32px;\n",
              "      padding: 0 0 0 0;\n",
              "      width: 32px;\n",
              "    }\n",
              "\n",
              "    .colab-df-convert:hover {\n",
              "      background-color: #E2EBFA;\n",
              "      box-shadow: 0px 1px 2px rgba(60, 64, 67, 0.3), 0px 1px 3px 1px rgba(60, 64, 67, 0.15);\n",
              "      fill: #174EA6;\n",
              "    }\n",
              "\n",
              "    [theme=dark] .colab-df-convert {\n",
              "      background-color: #3B4455;\n",
              "      fill: #D2E3FC;\n",
              "    }\n",
              "\n",
              "    [theme=dark] .colab-df-convert:hover {\n",
              "      background-color: #434B5C;\n",
              "      box-shadow: 0px 1px 3px 1px rgba(0, 0, 0, 0.15);\n",
              "      filter: drop-shadow(0px 1px 2px rgba(0, 0, 0, 0.3));\n",
              "      fill: #FFFFFF;\n",
              "    }\n",
              "  </style>\n",
              "\n",
              "      <script>\n",
              "        const buttonEl =\n",
              "          document.querySelector('#df-1e821eee-f37c-4ec8-9005-08d8f8283070 button.colab-df-convert');\n",
              "        buttonEl.style.display =\n",
              "          google.colab.kernel.accessAllowed ? 'block' : 'none';\n",
              "\n",
              "        async function convertToInteractive(key) {\n",
              "          const element = document.querySelector('#df-1e821eee-f37c-4ec8-9005-08d8f8283070');\n",
              "          const dataTable =\n",
              "            await google.colab.kernel.invokeFunction('convertToInteractive',\n",
              "                                                     [key], {});\n",
              "          if (!dataTable) return;\n",
              "\n",
              "          const docLinkHtml = 'Like what you see? Visit the ' +\n",
              "            '<a target=\"_blank\" href=https://colab.research.google.com/notebooks/data_table.ipynb>data table notebook</a>'\n",
              "            + ' to learn more about interactive tables.';\n",
              "          element.innerHTML = '';\n",
              "          dataTable['output_type'] = 'display_data';\n",
              "          await google.colab.output.renderOutput(dataTable, element);\n",
              "          const docLink = document.createElement('div');\n",
              "          docLink.innerHTML = docLinkHtml;\n",
              "          element.appendChild(docLink);\n",
              "        }\n",
              "      </script>\n",
              "    </div>\n",
              "  </div>\n",
              "  "
            ]
          },
          "metadata": {},
          "execution_count": 12
        }
      ]
    },
    {
      "cell_type": "code",
      "source": [
        "def annotation_merger(dataset):\n",
        "  count = 1\n",
        "  annotation = []\n",
        "  columns =['text', 'annotation']\n",
        "  df2 = pd.DataFrame(columns = columns)\n",
        "  for i, row in dataset.iterrows():\n",
        "    if row.iloc[0]!=count:\n",
        "      df2.loc[count-1] = [dataset.iloc[i-1,1],annotation]\n",
        "      count=row.iloc[0]\n",
        "      annotation = []  \n",
        "    annotation.append(tuple([row.iloc[2], row.iloc[3]]))\n",
        "  df2.loc[count-1] = [dataset.iloc[i-1,1],annotation]\n",
        "  return df2"
      ],
      "metadata": {
        "id": "gyV-ShLpUMZN"
      },
      "execution_count": null,
      "outputs": []
    },
    {
      "cell_type": "code",
      "source": [
        "df2 = annotation_merger(df1)"
      ],
      "metadata": {
        "id": "LrQgHOw7Ue3_"
      },
      "execution_count": null,
      "outputs": []
    },
    {
      "cell_type": "code",
      "source": [
        "df2.head()"
      ],
      "metadata": {
        "id": "WPRYbdOZUn65"
      },
      "execution_count": null,
      "outputs": []
    },
    {
      "cell_type": "code",
      "source": [
        "train, validate = np.split(df2.sample(frac=1, random_state=42), [int(.8*len(df2))])"
      ],
      "metadata": {
        "id": "QpgOabEGQODl"
      },
      "execution_count": null,
      "outputs": []
    },
    {
      "cell_type": "code",
      "source": [
        "train.shape"
      ],
      "metadata": {
        "colab": {
          "base_uri": "https://localhost:8080/"
        },
        "id": "54fnyNvYQYtk",
        "outputId": "5aabb246-6bbc-479a-931c-ff6894371463"
      },
      "execution_count": null,
      "outputs": [
        {
          "output_type": "execute_result",
          "data": {
            "text/plain": [
              "(4000, 2)"
            ]
          },
          "metadata": {},
          "execution_count": 48
        }
      ]
    },
    {
      "cell_type": "code",
      "source": [
        "train"
      ],
      "metadata": {
        "colab": {
          "base_uri": "https://localhost:8080/"
        },
        "id": "Scq8kvO3TGh2",
        "outputId": "710cdc05-3cdf-4998-8e30-36eb28af37e7"
      },
      "execution_count": null,
      "outputs": [
        {
          "output_type": "execute_result",
          "data": {
            "text/plain": [
              "Index(['text', 'annotation'], dtype='object')"
            ]
          },
          "metadata": {},
          "execution_count": 66
        }
      ]
    },
    {
      "cell_type": "code",
      "source": [
        "from tqdm import tqdm\n",
        "from difflib import SequenceMatcher\n",
        "import re\n",
        "import pickle\n",
        "\n",
        "def matcher(string, pattern):\n",
        "    '''\n",
        "    Return the start and end index of any pattern present in the text.\n",
        "    '''\n",
        "    match_list = []\n",
        "    pattern = pattern.strip()\n",
        "    seqMatch = SequenceMatcher(None, string, pattern, autojunk=False)\n",
        "    match = seqMatch.find_longest_match(0, len(string), 0, len(pattern))\n",
        "    if (match.size == len(pattern)):\n",
        "        start = match.a\n",
        "        end = match.a + match.size\n",
        "        match_tup = (start, end)\n",
        "        string = string.replace(pattern, \"X\" * len(pattern), 1)\n",
        "        match_list.append(match_tup)\n",
        "        \n",
        "    return match_list, string\n",
        "\n",
        "def mark_sentence(s, match_list):\n",
        "    '''\n",
        "    Marks all the entities in the sentence as per the BIO scheme. \n",
        "    '''\n",
        "    word_dict = {}\n",
        "    for word in s.split():\n",
        "        word_dict[word] = 'O'\n",
        "        \n",
        "    for start, end, e_type in match_list:\n",
        "        temp_str = s[start:end]\n",
        "        tmp_list = temp_str.split()\n",
        "        if len(tmp_list) > 1:\n",
        "            word_dict[tmp_list[0]] = 'B-' + e_type\n",
        "            for w in tmp_list[1:]:\n",
        "                word_dict[w] = 'I-' + e_type\n",
        "        else:\n",
        "            word_dict[temp_str] = 'B-' + e_type\n",
        "    return word_dict\n",
        "\n",
        "def clean(text):\n",
        "    '''\n",
        "    Just a helper fuction to add a space before the punctuations for better tokenization\n",
        "    '''\n",
        "    filters = [\"!\", \"#\", \"$\", \"%\", \"&\", \"(\", \")\", \"/\", \"*\", \".\", \":\", \";\", \"<\", \"=\", \">\", \"?\", \"@\", \"[\",\n",
        "               \"\\\\\", \"]\", \"_\", \"`\", \"{\", \"}\", \"~\", \"'\"]\n",
        "    for i in text:\n",
        "        if i in filters:\n",
        "            text = text.replace(i, \" \" + i)\n",
        "            \n",
        "    return text\n",
        "\n",
        "def create_data(df, filepath):\n",
        "    '''\n",
        "    The function responsible for the creation of data in the said format.\n",
        "    '''\n",
        "    s = set()\n",
        "    count = 0\n",
        "    with open(filepath , 'w') as f:\n",
        "        for text, annotation in zip(df.text, df.annotation):\n",
        "            #text = clean(text)\n",
        "            text_ = text        \n",
        "            match_list = []\n",
        "            for i in annotation:\n",
        "              try:\n",
        "                a, text_ = matcher(text, i[0])\n",
        "                match_list.append((a[0][0], a[0][1], i[1]))\n",
        "              except:\n",
        "                s.add((count, len(a), text_, i[0]))\n",
        "\n",
        "            d = mark_sentence(text, match_list)\n",
        "\n",
        "            for i in d.keys():\n",
        "                f.writelines(i + ' ' + d[i] +'\\n')\n",
        "            f.writelines('\\n')\n",
        "            count = count + 1\n",
        "\n",
        "    return s\n",
        "## An example dataframe.\n",
        "\n"
      ],
      "metadata": {
        "id": "4d1qgVcqQcO5"
      },
      "execution_count": null,
      "outputs": []
    },
    {
      "cell_type": "code",
      "source": [
        "## creating the file.\n",
        "s= create_data(train, '/content/drive/MyDrive/eBay_ML_Challenge_Dataset_2022/train_0.8.txt')\n",
        "print(s)\n",
        "s= create_data(validate, '/content/drive/MyDrive/eBay_ML_Challenge_Dataset_2022/dev_0.2.txt')\n",
        "print(s)"
      ],
      "metadata": {
        "id": "STV3-ZA-QiPb",
        "colab": {
          "base_uri": "https://localhost:8080/"
        },
        "outputId": "d7765882-4319-423f-eca6-8dae870a6a85"
      },
      "execution_count": null,
      "outputs": [
        {
          "output_type": "stream",
          "name": "stdout",
          "text": [
            "set()\n",
            "set()\n"
          ]
        }
      ]
    },
    {
      "cell_type": "code",
      "source": [
        "s= create_data(df2, '/content/drive/MyDrive/eBay_ML_Challenge_Dataset_2022/df_1.txt')\n",
        "print(s)"
      ],
      "metadata": {
        "colab": {
          "base_uri": "https://localhost:8080/"
        },
        "id": "P8QYLG7eYNTE",
        "outputId": "d219844b-c9f0-4de4-cdf6-f1cb2c37636f"
      },
      "execution_count": null,
      "outputs": [
        {
          "output_type": "stream",
          "name": "stdout",
          "text": [
            "set()\n"
          ]
        }
      ]
    },
    {
      "cell_type": "code",
      "source": [
        "from flair.data import Corpus\n",
        "from flair.datasets import ColumnCorpus"
      ],
      "metadata": {
        "id": "viKfF5eYSV2u"
      },
      "execution_count": null,
      "outputs": []
    },
    {
      "cell_type": "code",
      "source": [
        "# define columns\n",
        "columns = {0 : 'text', 1 : 'ner'}\n",
        "# directory where the data resides\n",
        "data_folder = '/content/drive/MyDrive/eBay_ML_Challenge_Dataset_2022'\n",
        "# initializing the corpus\n",
        "corpus: Corpus = ColumnCorpus(data_folder, columns,\n",
        "                              train_file = 'train_0.8.txt',\n",
        "                              test_file = 'dev_0.2.txt',\n",
        "                              dev_file = 'dev_0.2.txt')"
      ],
      "metadata": {
        "colab": {
          "base_uri": "https://localhost:8080/"
        },
        "id": "n9RIu0UWSZyh",
        "outputId": "f1044f3b-c083-45d2-bf67-62d71629a1b4"
      },
      "execution_count": null,
      "outputs": [
        {
          "output_type": "stream",
          "name": "stdout",
          "text": [
            "2022-08-10 04:47:42,853 Reading data from /content/drive/MyDrive/eBay_ML_Challenge_Dataset_2022\n",
            "2022-08-10 04:47:42,855 Train: /content/drive/MyDrive/eBay_ML_Challenge_Dataset_2022/train_0.8.txt\n",
            "2022-08-10 04:47:42,856 Dev: /content/drive/MyDrive/eBay_ML_Challenge_Dataset_2022/dev_0.2.txt\n",
            "2022-08-10 04:47:42,858 Test: /content/drive/MyDrive/eBay_ML_Challenge_Dataset_2022/dev_0.2.txt\n"
          ]
        }
      ]
    },
    {
      "cell_type": "code",
      "source": [
        "# 2. what label do we want to predict?\n",
        "label_type = 'ner'\n",
        "\n",
        "# 3. make the label dictionary from the corpus\n",
        "label_dict = corpus.make_label_dictionary(label_type=label_type)"
      ],
      "metadata": {
        "colab": {
          "base_uri": "https://localhost:8080/"
        },
        "id": "5MsGpSWeWKYb",
        "outputId": "7344db7f-2b49-4065-f841-5b58b462e787"
      },
      "execution_count": null,
      "outputs": [
        {
          "output_type": "stream",
          "name": "stdout",
          "text": [
            "2022-08-10 04:47:47,935 Computing label dictionary. Progress:\n"
          ]
        },
        {
          "output_type": "stream",
          "name": "stderr",
          "text": [
            "4000it [00:00, 13582.91it/s]"
          ]
        },
        {
          "output_type": "stream",
          "name": "stdout",
          "text": [
            "2022-08-10 04:47:48,323 Dictionary created for label 'ner' with 33 values: Type (seen 9096 times), NoT (seen 8460 times), Brand (seen 3731 times), Color (seen 3388 times), Material (seen 2162 times), Model (seen 1990 times), Pattern (seen 1213 times), Size (seen 977 times), ProductL (seen 813 times), Accents (seen 707 times), MPN (seen 690 times), Department (seen 633 times), Obscure (seen 578 times), FabricT (seen 503 times), Features (seen 481 times), Occasion (seen 430 times), Style (seen 379 times), HandleS (seen 302 times), Closure (seen 258 times), Theme (seen 249 times)\n"
          ]
        },
        {
          "output_type": "stream",
          "name": "stderr",
          "text": [
            "\n"
          ]
        }
      ]
    },
    {
      "cell_type": "code",
      "source": [
        "print(corpus)"
      ],
      "metadata": {
        "colab": {
          "base_uri": "https://localhost:8080/"
        },
        "id": "oBTgH6jjbGyd",
        "outputId": "c2c7df7d-9cd6-41aa-f3e0-c31c9f061df5"
      },
      "execution_count": null,
      "outputs": [
        {
          "output_type": "stream",
          "name": "stdout",
          "text": [
            "Corpus: 4000 train + 1000 dev + 1000 test sentences\n"
          ]
        }
      ]
    },
    {
      "cell_type": "code",
      "source": [
        "print(corpus.obtain_statistics())"
      ],
      "metadata": {
        "id": "ees8Mo7emzpQ"
      },
      "execution_count": null,
      "outputs": []
    },
    {
      "cell_type": "code",
      "source": [
        "from flair.embeddings import WordEmbeddings, FlairEmbeddings, StackedEmbeddings\n",
        "from flair.models import SequenceTagger\n",
        "from flair.trainers import ModelTrainer"
      ],
      "metadata": {
        "id": "O4Ql9G-coKes"
      },
      "execution_count": null,
      "outputs": []
    },
    {
      "cell_type": "code",
      "source": [
        "# 4. initialize embedding stack with Flair and GloVe\n",
        "embedding_types = [\n",
        "    WordEmbeddings('glove'),\n",
        "    FlairEmbeddings('news-forward'),\n",
        "    FlairEmbeddings('news-backward'),\n",
        "]\n",
        "embeddings = StackedEmbeddings(embeddings=embedding_types)"
      ],
      "metadata": {
        "colab": {
          "base_uri": "https://localhost:8080/"
        },
        "id": "aEo2fCiwpDAl",
        "outputId": "381a4e3e-ca6e-46b1-941a-527989c245c9"
      },
      "execution_count": null,
      "outputs": [
        {
          "output_type": "stream",
          "name": "stdout",
          "text": [
            "2022-08-10 04:47:49,098 https://flair.informatik.hu-berlin.de/resources/embeddings/token/glove.gensim.vectors.npy not found in cache, downloading to /tmp/tmpvutbko_3\n"
          ]
        },
        {
          "output_type": "stream",
          "name": "stderr",
          "text": [
            "100%|██████████| 160000128/160000128 [00:07<00:00, 21321831.14B/s]"
          ]
        },
        {
          "output_type": "stream",
          "name": "stdout",
          "text": [
            "2022-08-10 04:47:56,959 copying /tmp/tmpvutbko_3 to cache at /root/.flair/embeddings/glove.gensim.vectors.npy\n"
          ]
        },
        {
          "output_type": "stream",
          "name": "stderr",
          "text": [
            "\n"
          ]
        },
        {
          "output_type": "stream",
          "name": "stdout",
          "text": [
            "2022-08-10 04:47:57,261 removing temp file /tmp/tmpvutbko_3\n",
            "2022-08-10 04:47:57,637 https://flair.informatik.hu-berlin.de/resources/embeddings/token/glove.gensim not found in cache, downloading to /tmp/tmpo_vb2ub5\n"
          ]
        },
        {
          "output_type": "stream",
          "name": "stderr",
          "text": [
            "100%|██████████| 21494764/21494764 [00:01<00:00, 12983211.24B/s]"
          ]
        },
        {
          "output_type": "stream",
          "name": "stdout",
          "text": [
            "2022-08-10 04:47:59,649 copying /tmp/tmpo_vb2ub5 to cache at /root/.flair/embeddings/glove.gensim\n",
            "2022-08-10 04:47:59,675 removing temp file /tmp/tmpo_vb2ub5\n"
          ]
        },
        {
          "output_type": "stream",
          "name": "stderr",
          "text": [
            "\n"
          ]
        },
        {
          "output_type": "stream",
          "name": "stdout",
          "text": [
            "2022-08-10 04:48:02,449 https://flair.informatik.hu-berlin.de/resources/embeddings/flair/news-forward-0.4.1.pt not found in cache, downloading to /tmp/tmptf7md_at\n"
          ]
        },
        {
          "output_type": "stream",
          "name": "stderr",
          "text": [
            "100%|██████████| 73034624/73034624 [00:03<00:00, 20506302.09B/s]"
          ]
        },
        {
          "output_type": "stream",
          "name": "stdout",
          "text": [
            "2022-08-10 04:48:06,387 copying /tmp/tmptf7md_at to cache at /root/.flair/embeddings/news-forward-0.4.1.pt\n"
          ]
        },
        {
          "output_type": "stream",
          "name": "stderr",
          "text": [
            "\n"
          ]
        },
        {
          "output_type": "stream",
          "name": "stdout",
          "text": [
            "2022-08-10 04:48:06,509 removing temp file /tmp/tmptf7md_at\n",
            "2022-08-10 04:48:07,221 https://flair.informatik.hu-berlin.de/resources/embeddings/flair/news-backward-0.4.1.pt not found in cache, downloading to /tmp/tmpwbihhf47\n"
          ]
        },
        {
          "output_type": "stream",
          "name": "stderr",
          "text": [
            "100%|██████████| 73034575/73034575 [00:03<00:00, 20494371.71B/s]"
          ]
        },
        {
          "output_type": "stream",
          "name": "stdout",
          "text": [
            "2022-08-10 04:48:11,164 copying /tmp/tmpwbihhf47 to cache at /root/.flair/embeddings/news-backward-0.4.1.pt\n"
          ]
        },
        {
          "output_type": "stream",
          "name": "stderr",
          "text": [
            "\n"
          ]
        },
        {
          "output_type": "stream",
          "name": "stdout",
          "text": [
            "2022-08-10 04:48:11,261 removing temp file /tmp/tmpwbihhf47\n"
          ]
        }
      ]
    },
    {
      "cell_type": "code",
      "source": [
        "# 5. initialize sequence tagger\n",
        "tagger = SequenceTagger(hidden_size=512,\n",
        "                        embeddings=embeddings,\n",
        "                        tag_dictionary=label_dict,\n",
        "                        tag_type=label_type,\n",
        "                        use_crf=True)"
      ],
      "metadata": {
        "colab": {
          "base_uri": "https://localhost:8080/"
        },
        "id": "hB3JBhLhpO2u",
        "outputId": "d7505cf2-9d38-49a6-e10e-e298d886bbba"
      },
      "execution_count": null,
      "outputs": [
        {
          "output_type": "stream",
          "name": "stdout",
          "text": [
            "2022-08-10 04:48:14,825 SequenceTagger predicts: Dictionary with 129 tags: O, S-Type, B-Type, E-Type, I-Type, S-NoT, B-NoT, E-NoT, I-NoT, S-Brand, B-Brand, E-Brand, I-Brand, S-Color, B-Color, E-Color, I-Color, S-Material, B-Material, E-Material, I-Material, S-Model, B-Model, E-Model, I-Model, S-Pattern, B-Pattern, E-Pattern, I-Pattern, S-Size, B-Size, E-Size, I-Size, S-ProductL, B-ProductL, E-ProductL, I-ProductL, S-Accents, B-Accents, E-Accents, I-Accents, S-MPN, B-MPN, E-MPN, I-MPN, S-Department, B-Department, E-Department, I-Department, S-Obscure\n"
          ]
        }
      ]
    },
    {
      "cell_type": "code",
      "source": [
        "# 6. initialize trainer\n",
        "trainer = ModelTrainer(tagger, corpus)\n",
        "\n",
        "# 7. start training\n",
        "trainer.train('/content/drive/MyDrive/eBay_ML_Challenge_Dataset_2022/resources/taggers_v3/sota-ner-flair',\n",
        "              learning_rate=0.1,\n",
        "              mini_batch_size=32,\n",
        "              max_epochs=150)"
      ],
      "metadata": {
        "id": "d13MM7FwpdL8"
      },
      "execution_count": null,
      "outputs": []
    },
    {
      "cell_type": "code",
      "source": [
        "import pandas as pd"
      ],
      "metadata": {
        "id": "ZBUcYx6az0aU"
      },
      "execution_count": null,
      "outputs": []
    },
    {
      "cell_type": "code",
      "source": [
        "Listing = pd.read_csv('/content/drive/MyDrive/eBay_ML_Challenge_Dataset_2022/Listing_Titles.tsv.gz', sep = '\\\\\\t', engine = 'python')"
      ],
      "metadata": {
        "id": "3lCfYYSvzPAx"
      },
      "execution_count": null,
      "outputs": []
    },
    {
      "cell_type": "code",
      "source": [
        "quiz_df = Listing[5000:30000]"
      ],
      "metadata": {
        "id": "SyCQepnb0JR4"
      },
      "execution_count": null,
      "outputs": []
    },
    {
      "cell_type": "code",
      "source": [
        "from flair.data import Sentence\n",
        "from flair.models import SequenceTagger"
      ],
      "metadata": {
        "id": "KfhLdzkMzPgk"
      },
      "execution_count": null,
      "outputs": []
    },
    {
      "cell_type": "code",
      "source": [
        "# load the trained model\n",
        "model = SequenceTagger.load('/content/drive/MyDrive/eBay_ML_Challenge_Dataset_2022/resources/taggers_v3/sota-ner-flair/best-model.pt')"
      ],
      "metadata": {
        "colab": {
          "base_uri": "https://localhost:8080/"
        },
        "id": "c6UiNnRizj2t",
        "outputId": "f7546273-edc0-44af-b02d-897b9a506cb7"
      },
      "execution_count": null,
      "outputs": [
        {
          "output_type": "stream",
          "name": "stdout",
          "text": [
            "2022-08-10 17:55:31,574 loading file /content/drive/MyDrive/eBay_ML_Challenge_Dataset_2022/resources/taggers_v3/sota-ner-flair/best-model.pt\n",
            "2022-08-10 17:55:37,097 SequenceTagger predicts: Dictionary with 131 tags: O, S-Type, B-Type, E-Type, I-Type, S-NoT, B-NoT, E-NoT, I-NoT, S-Brand, B-Brand, E-Brand, I-Brand, S-Color, B-Color, E-Color, I-Color, S-Material, B-Material, E-Material, I-Material, S-Model, B-Model, E-Model, I-Model, S-Pattern, B-Pattern, E-Pattern, I-Pattern, S-Size, B-Size, E-Size, I-Size, S-ProductL, B-ProductL, E-ProductL, I-ProductL, S-Accents, B-Accents, E-Accents, I-Accents, S-MPN, B-MPN, E-MPN, I-MPN, S-Department, B-Department, E-Department, I-Department, S-Obscure\n"
          ]
        }
      ]
    },
    {
      "cell_type": "code",
      "source": [
        "# create example sentence\n",
        "sentence = Sentence(\"HOBO INTERNATIONAL Women's VINTAGE LEATHER Shoulder Bag CROSSBODY\")\n",
        "# predict the tags\n",
        "model.predict(sentence)\n",
        "print(sentence.to_tagged_string())"
      ],
      "metadata": {
        "colab": {
          "base_uri": "https://localhost:8080/"
        },
        "id": "xxDNOTLb0HRv",
        "outputId": "60fb47ab-e453-4bb1-a0ec-d9ac14bb985a"
      },
      "execution_count": null,
      "outputs": [
        {
          "output_type": "stream",
          "name": "stdout",
          "text": [
            "Sentence: \"HOBO INTERNATIONAL Women 's VINTAGE LEATHER Shoulder Bag CROSSBODY\" → [\"HOBO\"/Type, \"INTERNATIONAL\"/NoT, \"Women 's\"/Department, \"VINTAGE\"/NoT, \"LEATHER\"/Material, \"Shoulder\"/Type, \"Bag\"/Type, \"CROSSBODY\"/Type]\n"
          ]
        }
      ]
    },
    {
      "cell_type": "code",
      "source": [
        "print(sentence.to_tagged_string())"
      ],
      "metadata": {
        "colab": {
          "base_uri": "https://localhost:8080/"
        },
        "id": "LBn73T0A3BW2",
        "outputId": "51f8da7e-a4a9-4db4-8fcc-1ba916c10381"
      },
      "execution_count": null,
      "outputs": [
        {
          "output_type": "stream",
          "name": "stdout",
          "text": [
            "Sentence: \"HOBO INTERNATIONAL Women ' s VINTAGE LEATHER Shoulder Bag CROSSBODY\" → [\"HOBO\"/Type, \"INTERNATIONAL\"/NoT, \"Women '\"/Department, \"s\"/NoT, \"VINTAGE\"/NoT, \"LEATHER\"/Material, \"Shoulder\"/Type, \"Bag\"/Type, \"CROSSBODY\"/Type]\n"
          ]
        }
      ]
    },
    {
      "cell_type": "code",
      "source": [
        "print(sentence.get_labels()[0].data_point.text)"
      ],
      "metadata": {
        "colab": {
          "base_uri": "https://localhost:8080/"
        },
        "id": "9JVo_cqT0XLQ",
        "outputId": "56db039b-94ab-42ac-c685-21f541b06a4f"
      },
      "execution_count": null,
      "outputs": [
        {
          "output_type": "stream",
          "name": "stdout",
          "text": [
            "HOBO\n"
          ]
        }
      ]
    },
    {
      "cell_type": "code",
      "source": [
        "print(sentence.get_labels())"
      ],
      "metadata": {
        "colab": {
          "base_uri": "https://localhost:8080/"
        },
        "id": "-WQqJcri6Ahs",
        "outputId": "de19640f-3005-4d5c-842d-3b7b072acd44"
      },
      "execution_count": null,
      "outputs": [
        {
          "output_type": "stream",
          "name": "stdout",
          "text": [
            "Span[1:2]: \"INTERNATIONAL\" → NoT (0.7639)\n"
          ]
        }
      ]
    },
    {
      "cell_type": "code",
      "source": [
        "quiz_df[5000:5100].shape[0]"
      ],
      "metadata": {
        "colab": {
          "base_uri": "https://localhost:8080/"
        },
        "id": "OwJkdMvb5sUv",
        "outputId": "e3855acf-449e-4b02-a272-2cc5bf60ee61"
      },
      "execution_count": null,
      "outputs": [
        {
          "output_type": "execute_result",
          "data": {
            "text/plain": [
              "0"
            ]
          },
          "metadata": {},
          "execution_count": 60
        }
      ]
    },
    {
      "cell_type": "code",
      "source": [],
      "metadata": {
        "id": "nSrhqZ3z776W"
      },
      "execution_count": null,
      "outputs": []
    },
    {
      "cell_type": "code",
      "source": [],
      "metadata": {
        "id": "PHETuLDSApC8"
      },
      "execution_count": null,
      "outputs": []
    },
    {
      "cell_type": "code",
      "source": [
        "from tqdm import tqdm\n",
        "def prediction(quiz_df):\n",
        "  column_names = ['Record number', 'Aspect Name', 'Aspect Value']\n",
        "  predicted = pd.DataFrame(columns = column_names)\n",
        "  count = 0\n",
        "  for i, j in tqdm(quiz_df.iterrows(), total=quiz_df.shape[0]):\n",
        "    sentence = Sentence(j[1])\n",
        "    model.predict(sentence)\n",
        "    for label in sentence.get_labels():\n",
        "      predicted.loc[count] = [j[0], label.value, label.data_point.text]\n",
        "      count += 1\n",
        "  return predicted\n",
        "def drop_tag(predicted):\n",
        "  predicted['Aspect Name'] = predicted['Aspect Name'].replace(rep,ori)\n",
        "  predicted = predicted[predicted['Aspect Name'] != 'Obscure']\n",
        "  predicted = predicted[predicted['Aspect Name'] != 'No Tag']\n",
        "  predicted=predicted.set_index('Record number', drop = True)\n",
        "  return predicted"
      ],
      "metadata": {
        "id": "qUuyV34a5Exb"
      },
      "execution_count": null,
      "outputs": []
    },
    {
      "cell_type": "code",
      "source": [
        "predicted.head()"
      ],
      "metadata": {
        "id": "pGd6MJsi9pf6"
      },
      "execution_count": null,
      "outputs": []
    },
    {
      "cell_type": "code",
      "source": [
        "predicted = prediction(quiz_df)\n",
        "predicted = drop_tag(predicted)"
      ],
      "metadata": {
        "colab": {
          "base_uri": "https://localhost:8080/"
        },
        "id": "GC6Ke_wb9Kid",
        "outputId": "9b16b931-7f78-46f9-bd40-959c4588ba77"
      },
      "execution_count": null,
      "outputs": [
        {
          "output_type": "stream",
          "name": "stderr",
          "text": [
            "100%|██████████| 25000/25000 [3:36:18<00:00,  1.93it/s]\n"
          ]
        }
      ]
    },
    {
      "cell_type": "code",
      "source": [],
      "metadata": {
        "id": "3nYcfTzC-QBi"
      },
      "execution_count": null,
      "outputs": []
    },
    {
      "cell_type": "code",
      "source": [
        "predicted.to_csv('/content/drive/MyDrive/eBay_ML_Challenge_Dataset_2022/quiz7.tsv', header=None, sep=\"\\t\")"
      ],
      "metadata": {
        "id": "6lzwHPdI-8zr"
      },
      "execution_count": null,
      "outputs": []
    },
    {
      "cell_type": "code",
      "source": [
        "def drop_tag(predicted):\n",
        "  predicted = predicted[predicted['Aspect Name'] != 'Obscure']\n",
        "  predicted = predicted[predicted['Aspect Name'] != 'No Tag']\n",
        "  predicted=predicted.set_index('Record number', drop = True)\n",
        "  return predicted"
      ],
      "metadata": {
        "id": "DrwsFJsjAAb4"
      },
      "execution_count": null,
      "outputs": []
    },
    {
      "cell_type": "code",
      "source": [
        "predicted = drop_tag(predicted)"
      ],
      "metadata": {
        "id": "waHYAnx0AB80"
      },
      "execution_count": null,
      "outputs": []
    },
    {
      "cell_type": "code",
      "source": [
        "predicted.head(10)"
      ],
      "metadata": {
        "colab": {
          "base_uri": "https://localhost:8080/",
          "height": 394
        },
        "id": "XlFpdWne_KDT",
        "outputId": "aea20461-f043-4287-a20b-f250361e3e55"
      },
      "execution_count": null,
      "outputs": [
        {
          "output_type": "execute_result",
          "data": {
            "text/plain": [
              "              Aspect Name Aspect Value\n",
              "Record number                         \n",
              "5001                Brand        Kamen\n",
              "5001                Model   Rider Gaim\n",
              "5001                Style         Belt\n",
              "5002                 Type         HOBO\n",
              "5002           Department      Women '\n",
              "5002             Material      LEATHER\n",
              "5002                 Type     Shoulder\n",
              "5002                 Type          Bag\n",
              "5002                 Type    CROSSBODY\n",
              "5003                Brand        Coach"
            ],
            "text/html": [
              "\n",
              "  <div id=\"df-0ff1490b-358f-4e62-94cd-68cc5b632728\">\n",
              "    <div class=\"colab-df-container\">\n",
              "      <div>\n",
              "<style scoped>\n",
              "    .dataframe tbody tr th:only-of-type {\n",
              "        vertical-align: middle;\n",
              "    }\n",
              "\n",
              "    .dataframe tbody tr th {\n",
              "        vertical-align: top;\n",
              "    }\n",
              "\n",
              "    .dataframe thead th {\n",
              "        text-align: right;\n",
              "    }\n",
              "</style>\n",
              "<table border=\"1\" class=\"dataframe\">\n",
              "  <thead>\n",
              "    <tr style=\"text-align: right;\">\n",
              "      <th></th>\n",
              "      <th>Aspect Name</th>\n",
              "      <th>Aspect Value</th>\n",
              "    </tr>\n",
              "    <tr>\n",
              "      <th>Record number</th>\n",
              "      <th></th>\n",
              "      <th></th>\n",
              "    </tr>\n",
              "  </thead>\n",
              "  <tbody>\n",
              "    <tr>\n",
              "      <th>5001</th>\n",
              "      <td>Brand</td>\n",
              "      <td>Kamen</td>\n",
              "    </tr>\n",
              "    <tr>\n",
              "      <th>5001</th>\n",
              "      <td>Model</td>\n",
              "      <td>Rider Gaim</td>\n",
              "    </tr>\n",
              "    <tr>\n",
              "      <th>5001</th>\n",
              "      <td>Style</td>\n",
              "      <td>Belt</td>\n",
              "    </tr>\n",
              "    <tr>\n",
              "      <th>5002</th>\n",
              "      <td>Type</td>\n",
              "      <td>HOBO</td>\n",
              "    </tr>\n",
              "    <tr>\n",
              "      <th>5002</th>\n",
              "      <td>Department</td>\n",
              "      <td>Women '</td>\n",
              "    </tr>\n",
              "    <tr>\n",
              "      <th>5002</th>\n",
              "      <td>Material</td>\n",
              "      <td>LEATHER</td>\n",
              "    </tr>\n",
              "    <tr>\n",
              "      <th>5002</th>\n",
              "      <td>Type</td>\n",
              "      <td>Shoulder</td>\n",
              "    </tr>\n",
              "    <tr>\n",
              "      <th>5002</th>\n",
              "      <td>Type</td>\n",
              "      <td>Bag</td>\n",
              "    </tr>\n",
              "    <tr>\n",
              "      <th>5002</th>\n",
              "      <td>Type</td>\n",
              "      <td>CROSSBODY</td>\n",
              "    </tr>\n",
              "    <tr>\n",
              "      <th>5003</th>\n",
              "      <td>Brand</td>\n",
              "      <td>Coach</td>\n",
              "    </tr>\n",
              "  </tbody>\n",
              "</table>\n",
              "</div>\n",
              "      <button class=\"colab-df-convert\" onclick=\"convertToInteractive('df-0ff1490b-358f-4e62-94cd-68cc5b632728')\"\n",
              "              title=\"Convert this dataframe to an interactive table.\"\n",
              "              style=\"display:none;\">\n",
              "        \n",
              "  <svg xmlns=\"http://www.w3.org/2000/svg\" height=\"24px\"viewBox=\"0 0 24 24\"\n",
              "       width=\"24px\">\n",
              "    <path d=\"M0 0h24v24H0V0z\" fill=\"none\"/>\n",
              "    <path d=\"M18.56 5.44l.94 2.06.94-2.06 2.06-.94-2.06-.94-.94-2.06-.94 2.06-2.06.94zm-11 1L8.5 8.5l.94-2.06 2.06-.94-2.06-.94L8.5 2.5l-.94 2.06-2.06.94zm10 10l.94 2.06.94-2.06 2.06-.94-2.06-.94-.94-2.06-.94 2.06-2.06.94z\"/><path d=\"M17.41 7.96l-1.37-1.37c-.4-.4-.92-.59-1.43-.59-.52 0-1.04.2-1.43.59L10.3 9.45l-7.72 7.72c-.78.78-.78 2.05 0 2.83L4 21.41c.39.39.9.59 1.41.59.51 0 1.02-.2 1.41-.59l7.78-7.78 2.81-2.81c.8-.78.8-2.07 0-2.86zM5.41 20L4 18.59l7.72-7.72 1.47 1.35L5.41 20z\"/>\n",
              "  </svg>\n",
              "      </button>\n",
              "      \n",
              "  <style>\n",
              "    .colab-df-container {\n",
              "      display:flex;\n",
              "      flex-wrap:wrap;\n",
              "      gap: 12px;\n",
              "    }\n",
              "\n",
              "    .colab-df-convert {\n",
              "      background-color: #E8F0FE;\n",
              "      border: none;\n",
              "      border-radius: 50%;\n",
              "      cursor: pointer;\n",
              "      display: none;\n",
              "      fill: #1967D2;\n",
              "      height: 32px;\n",
              "      padding: 0 0 0 0;\n",
              "      width: 32px;\n",
              "    }\n",
              "\n",
              "    .colab-df-convert:hover {\n",
              "      background-color: #E2EBFA;\n",
              "      box-shadow: 0px 1px 2px rgba(60, 64, 67, 0.3), 0px 1px 3px 1px rgba(60, 64, 67, 0.15);\n",
              "      fill: #174EA6;\n",
              "    }\n",
              "\n",
              "    [theme=dark] .colab-df-convert {\n",
              "      background-color: #3B4455;\n",
              "      fill: #D2E3FC;\n",
              "    }\n",
              "\n",
              "    [theme=dark] .colab-df-convert:hover {\n",
              "      background-color: #434B5C;\n",
              "      box-shadow: 0px 1px 3px 1px rgba(0, 0, 0, 0.15);\n",
              "      filter: drop-shadow(0px 1px 2px rgba(0, 0, 0, 0.3));\n",
              "      fill: #FFFFFF;\n",
              "    }\n",
              "  </style>\n",
              "\n",
              "      <script>\n",
              "        const buttonEl =\n",
              "          document.querySelector('#df-0ff1490b-358f-4e62-94cd-68cc5b632728 button.colab-df-convert');\n",
              "        buttonEl.style.display =\n",
              "          google.colab.kernel.accessAllowed ? 'block' : 'none';\n",
              "\n",
              "        async function convertToInteractive(key) {\n",
              "          const element = document.querySelector('#df-0ff1490b-358f-4e62-94cd-68cc5b632728');\n",
              "          const dataTable =\n",
              "            await google.colab.kernel.invokeFunction('convertToInteractive',\n",
              "                                                     [key], {});\n",
              "          if (!dataTable) return;\n",
              "\n",
              "          const docLinkHtml = 'Like what you see? Visit the ' +\n",
              "            '<a target=\"_blank\" href=https://colab.research.google.com/notebooks/data_table.ipynb>data table notebook</a>'\n",
              "            + ' to learn more about interactive tables.';\n",
              "          element.innerHTML = '';\n",
              "          dataTable['output_type'] = 'display_data';\n",
              "          await google.colab.output.renderOutput(dataTable, element);\n",
              "          const docLink = document.createElement('div');\n",
              "          docLink.innerHTML = docLinkHtml;\n",
              "          element.appendChild(docLink);\n",
              "        }\n",
              "      </script>\n",
              "    </div>\n",
              "  </div>\n",
              "  "
            ]
          },
          "metadata": {},
          "execution_count": 77
        }
      ]
    }
  ]
}